{
 "cells": [
  {
   "cell_type": "code",
   "execution_count": 2,
   "metadata": {},
   "outputs": [
    {
     "name": "stderr",
     "output_type": "stream",
     "text": [
      "/home/npopkov/dll24/.conda/lib/python3.9/site-packages/tqdm/auto.py:21: TqdmWarning: IProgress not found. Please update jupyter and ipywidgets. See https://ipywidgets.readthedocs.io/en/stable/user_install.html\n",
      "  from .autonotebook import tqdm as notebook_tqdm\n",
      "100%|██████████| 6675/6675 [00:05<00:00, 1289.79it/s]\n"
     ]
    }
   ],
   "source": [
    "import sys\n",
    "sys.path.append('/home/npopkov/dll24')\n",
    "\n",
    "import matplotlib.pyplot as plt\n",
    "import torch\n",
    "torch.backends.cudnn.benchmark = True\n",
    "\n",
    "import numpy as np\n",
    "import lightning as lt\n",
    "torch.set_float32_matmul_precision('medium')\n",
    "import soundfile as sf\n",
    "\n",
    "from audio_diffusion_pytorch import DiffusionModel, UNetV0, VDiffusion, VSampler\n",
    "\n",
    "from torch.utils.data import DataLoader,Dataset\n",
    "\n",
    "import h5py\n",
    "from tqdm.auto import tqdm\n",
    "\n",
    "class SnippetDatasetHDF(Dataset):\n",
    "    def __init__(self, hdf, scaling='minmax'):\n",
    "        self.num_rows = 0\n",
    "        self.size = 2**16\n",
    "        self.scaling = scaling\n",
    "        self.data = self.createData(hdf)\n",
    "        \n",
    "        if scaling == 'standard':\n",
    "            self.mean = self.data.mean()\n",
    "            self.std =  self.data.std()\n",
    "            self.data = (self.data - self.mean) / self.std\n",
    "        \n",
    "        if scaling == 'minmax':\n",
    "            self.min = self.data.min()\n",
    "            self.max = self.data.max()\n",
    "            self.data = (self.data - self.min) / (self.max - self.min)\n",
    "    \n",
    "    def __len__(self):\n",
    "        return self.num_rows\n",
    "    \n",
    "    def __getitem__(self, idx):\n",
    "        return self.data[idx]\n",
    "    \n",
    "    def createData(self, hdf):\n",
    "        data = []\n",
    "        keys = list(hdf.keys())\n",
    "        self.num_rows = len(keys)\n",
    "        for key in tqdm(keys):\n",
    "            sample = hdf[key]['audio'][:]\n",
    "            if len(sample) > self.size:\n",
    "                self.num_rows -= 1\n",
    "                continue\n",
    "\n",
    "            if len(sample) < self.size:\n",
    "                sample = np.pad(sample, (0, self.size - len(sample)), 'constant')\n",
    "\n",
    "            data.append(sample)\n",
    "         \n",
    "        return torch.tensor(np.array(data)).float()\n",
    "\n",
    "    def retransform(self, data):\n",
    "        if self.scaling == 'standard':\n",
    "            return data * self.std + self.mean\n",
    "        if self.scaling == 'minmax':\n",
    "            return data * (self.max - self.min) + self.min\n",
    "\n",
    "hdf = h5py.File('../../../test.hdf5', 'r')\n",
    "dataset = SnippetDatasetHDF(hdf)\n",
    "hdf.close()\n",
    "\n"
   ]
  }
 ],
 "metadata": {
  "kernelspec": {
   "display_name": "Python 3",
   "language": "python",
   "name": "python3"
  },
  "language_info": {
   "codemirror_mode": {
    "name": "ipython",
    "version": 3
   },
   "file_extension": ".py",
   "mimetype": "text/x-python",
   "name": "python",
   "nbconvert_exporter": "python",
   "pygments_lexer": "ipython3",
   "version": "3.9.19"
  }
 },
 "nbformat": 4,
 "nbformat_minor": 2
}
