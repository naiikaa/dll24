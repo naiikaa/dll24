{
 "cells": [
  {
   "cell_type": "code",
   "execution_count": null,
   "id": "initial_id",
   "metadata": {
    "collapsed": true
   },
   "outputs": [],
   "source": [
    "import warnings\n",
    "warnings.filterwarnings(\"ignore\")\n",
    "import time\n",
    "import ddsp\n",
    "from ddsp.training import (data, decoders, encoders, models, preprocessing, \n",
    "                           train_util, trainers)\n",
    "from ddsp.colab.colab_utils import play, specplot, DEFAULT_SAMPLE_RATE\n",
    "import gin\n",
    "import matplotlib.pyplot as plt\n",
    "import numpy as np\n",
    "import tensorflow.compat.v2 as tf\n",
    "import tensorflow_datasets as tfds\n",
    "\n",
    "sample_rate = DEFAULT_SAMPLE_RATE  # 16000"
   ]
  },
  {
   "metadata": {},
   "cell_type": "code",
   "outputs": [],
   "execution_count": null,
   "source": [
    "TIME_STEPS = 1000\n",
    "\n",
    "preprocessor = preprocessing.F0LoudnessPreprocessor(time_steps=TIME_STEPS)\n",
    "\n",
    "decoder = decoders.RnnFcDecoder(rnn_channels = 256,\n",
    "                                rnn_type = 'gru',\n",
    "                                ch = 256,\n",
    "                                layers_per_stack = 1,\n",
    "                                input_keys = ('ld_scaled', 'f0_scaled'),\n",
    "                                output_splits = (('amps', 1),\n",
    "                                                 ('harmonic_distribution', 45),\n",
    "                                                 ('noise_magnitudes', 45)))\n",
    "\n",
    "harmonic = ddsp.synths.Harmonic(n_samples=n_samples, \n",
    "                                sample_rate=sample_rate,\n",
    "                                name='harmonic')\n",
    "\n",
    "noise = ddsp.synths.FilteredNoise(window_size=0,\n",
    "                                  initial_bias=-10.0,\n",
    "                                  name='noise')\n",
    "add = ddsp.processors.Add(name='add')\n",
    "\n",
    "dag = [(harmonic, ['amps', 'harmonic_distribution', 'f0_hz']),\n",
    "       (noise, ['noise_magnitudes']),\n",
    "       (add, ['noise/signal', 'harmonic/signal'])]\n",
    "\n",
    "processor_group = ddsp.processors.ProcessorGroup(dag=dag,\n",
    "                                                 name='processor_group')\n",
    "\n",
    "\n",
    "# Loss_functions\n",
    "spectral_loss = ddsp.losses.SpectralLoss(loss_type='L1',\n",
    "                                         mag_weight=1.0,\n",
    "                                         logmag_weight=1.0)\n",
    "\n",
    "with strategy.scope():\n",
    "  # Put it together in a model.\n",
    "  model = models.Autoencoder(preprocessor=preprocessor,\n",
    "                             encoder=None,\n",
    "                             decoder=decoder,\n",
    "                             processor_group=processor_group,\n",
    "                             losses=[spectral_loss])\n",
    "  trainer = trainers.Trainer(model, strategy, learning_rate=1e-3)\n",
    "  \n",
    "  \n",
    "dataset = trainer.distribute_dataset(dataset)\n",
    "trainer.build(next(iter(dataset)))\n",
    "     \n",
    "\n",
    "dataset_iter = iter(dataset)\n",
    "\n",
    "for i in range(300):\n",
    "  losses = trainer.train_step(dataset_iter)\n",
    "  res_str = 'step: {}\\t'.format(i)\n",
    "  for k, v in losses.items():\n",
    "    res_str += '{}: {:.2f}\\t'.format(k, v)\n",
    "  print(res_str)\n",
    "     "
   ],
   "id": "cac042a338b8edcf"
  }
 ],
 "metadata": {
  "kernelspec": {
   "display_name": "Python 3",
   "language": "python",
   "name": "python3"
  },
  "language_info": {
   "codemirror_mode": {
    "name": "ipython",
    "version": 2
   },
   "file_extension": ".py",
   "mimetype": "text/x-python",
   "name": "python",
   "nbconvert_exporter": "python",
   "pygments_lexer": "ipython2",
   "version": "2.7.6"
  }
 },
 "nbformat": 4,
 "nbformat_minor": 5
}
