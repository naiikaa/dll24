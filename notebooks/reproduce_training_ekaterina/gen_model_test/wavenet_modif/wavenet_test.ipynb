{
 "cells": [
  {
   "metadata": {
    "ExecuteTime": {
     "end_time": "2024-09-05T18:15:50.146798Z",
     "start_time": "2024-09-05T18:15:41.469273Z"
    }
   },
   "cell_type": "code",
   "source": [
    "from wavenet_model_modified import * \n",
    "device = \"cuda\" if torch.cuda.is_available() else \"cpu\"\n",
    "# device = 'cpu'\n",
    "print(device)\n",
    "torch.cuda.empty_cache()\n",
    "\n",
    "\n",
    "\n",
    "# hsn = load_dataset('DBD-research-group/BirdSet', 'HSN')\n",
    "hsn = h5py.File('../test_24k.hdf5', 'r')\n",
    "seq_len_segment = 2 ** 15\n",
    "mu = 128\n",
    "batch_size = 8\n",
    "# dataset = BirdsetDataset(hsn, seq_len_segment, mu)\n",
    "# dataset = SnippetDatasetHDF(hsn)\n",
    "dataset = SnippetDatasetHSN(hsn, seq_len_segment, mu)\n",
    "# hsn.close()\n",
    "# subset_indices = random.sample(range(len(hsn['train'])), int(len(hsn['train']) * subset_percentage))\n",
    "# hsn = hsn['train'].select(subset_indices)\n",
    "dataloader = DataLoader(dataset, batch_size=batch_size, shuffle=True)\n",
    "dilation_depth = 10\n",
    "n_blocks = 2\n",
    "n_dilation_channels = 24\n",
    "n_residual_channels = 24\n",
    "n_skip_channels = 128\n",
    "n_category = mu\n",
    "kernel_size = 1\n",
    "model = Wavenet(dilation_depth, n_blocks, n_dilation_channels, n_residual_channels, n_skip_channels, n_category,\n",
    "                kernel_size, seq_len_segment=seq_len_segment)\n",
    "model.to(device)\n",
    "\n",
    "criterion = nn.CrossEntropyLoss()\n",
    "optimizer = optim.Adam(model.parameters(), lr=0.001)\n",
    "\n",
    "epochs = 6\n",
    "model.train()\n",
    "\n",
    "oneHot = OneHot(n_category)\n",
    "\n",
    "for epoch in range(epochs):\n",
    "    for i, inputs in enumerate(dataloader):\n",
    "\n",
    "        inputs = inputs.to(device)\n",
    "        inputs = inputs.contiguous()\n",
    "        targets = oneHot(inputs)\n",
    "\n",
    "        optimizer.zero_grad()\n",
    "        outputs = model(inputs)\n",
    "        # batch_size, seq_len, num_classes = outputs.size()\n",
    "        # outputs = outputs.contiguous().view(-1, num_classes)\n",
    "\n",
    "        loss = criterion(outputs, targets)\n",
    "        loss.backward()\n",
    "        optimizer.step()\n",
    "        # if epoch % 10 == 0:\n",
    "        print(f'[Epoch {epoch + 1}, Batch {i + 1}] loss: {loss.item() / 10:.4f}')\n",
    "\n",
    "print('saving model')\n",
    "torch.save(model.state_dict(), 'wavenet_model.pth')\n",
    "\n",
    "\n",
    "\n"
   ],
   "id": "initial_id",
   "outputs": [
    {
     "name": "stdout",
     "output_type": "stream",
     "text": [
      "cuda\n"
     ]
    },
    {
     "data": {
      "text/plain": [
       "  0%|          | 0/84 [00:00<?, ?it/s]"
      ],
      "application/vnd.jupyter.widget-view+json": {
       "version_major": 2,
       "version_minor": 0,
       "model_id": "4230fa4f0edb4f1d8b7a132d108ee570"
      }
     },
     "metadata": {},
     "output_type": "display_data"
    },
    {
     "name": "stdout",
     "output_type": "stream",
     "text": [
      "[Epoch 1, Batch 1] loss: 0.4712\n",
      "[Epoch 1, Batch 2] loss: 0.4484\n",
      "[Epoch 1, Batch 3] loss: 0.4277\n",
      "[Epoch 1, Batch 4] loss: 0.4062\n",
      "[Epoch 1, Batch 5] loss: 0.3839\n",
      "[Epoch 2, Batch 1] loss: 0.3586\n",
      "[Epoch 2, Batch 2] loss: 0.3287\n",
      "[Epoch 2, Batch 3] loss: 0.2939\n",
      "[Epoch 2, Batch 4] loss: 0.2542\n",
      "[Epoch 2, Batch 5] loss: 0.2091\n",
      "[Epoch 3, Batch 1] loss: 0.1594\n",
      "[Epoch 3, Batch 2] loss: 0.1090\n",
      "[Epoch 3, Batch 3] loss: 0.0643\n",
      "[Epoch 3, Batch 4] loss: 0.0315\n",
      "[Epoch 3, Batch 5] loss: 0.0130\n",
      "[Epoch 4, Batch 1] loss: 0.0049\n",
      "[Epoch 4, Batch 2] loss: 0.0018\n",
      "[Epoch 4, Batch 3] loss: 0.0006\n",
      "[Epoch 4, Batch 4] loss: 0.0002\n",
      "[Epoch 4, Batch 5] loss: 0.0001\n",
      "[Epoch 5, Batch 1] loss: 0.0000\n",
      "[Epoch 5, Batch 2] loss: 0.0000\n",
      "[Epoch 5, Batch 3] loss: 0.0000\n",
      "[Epoch 5, Batch 4] loss: 0.0000\n",
      "[Epoch 5, Batch 5] loss: 0.0000\n",
      "[Epoch 6, Batch 1] loss: 0.0000\n",
      "[Epoch 6, Batch 2] loss: 0.0000\n",
      "[Epoch 6, Batch 3] loss: 0.0000\n",
      "[Epoch 6, Batch 4] loss: 0.0000\n",
      "[Epoch 6, Batch 5] loss: 0.0000\n",
      "saving model\n"
     ]
    }
   ],
   "execution_count": 1
  },
  {
   "metadata": {
    "ExecuteTime": {
     "end_time": "2024-09-05T18:34:53.600878Z",
     "start_time": "2024-09-05T18:34:34.580343Z"
    }
   },
   "cell_type": "code",
   "source": [
    "from matplotlib import pyplot as plt\n",
    "from wavenet_model_modified import * \n",
    "\n",
    "hsn = h5py.File('../test_24k.hdf5', 'r')\n",
    "subset_percentage = 0.5\n",
    "seq_len_segment = 2 ** 15\n",
    "mu = 128\n",
    "batch_size = 8\n",
    "dataset = SnippetDatasetHSN(hsn, seq_len_segment, mu)\n",
    "dataloader = DataLoader(dataset, batch_size=batch_size, shuffle=True)\n",
    "\n",
    "seq_len_segment = 2 ** 15\n",
    "mu = 128\n",
    "batch_size = 8\n",
    "dilation_depth = 10\n",
    "n_blocks = 2\n",
    "n_dilation_channels = 24\n",
    "n_residual_channels = 24\n",
    "n_skip_channels = 128\n",
    "n_category = mu\n",
    "kernel_size = 1\n",
    "model = Wavenet(dilation_depth, n_blocks, n_dilation_channels, n_residual_channels, n_skip_channels, n_category,\n",
    "                kernel_size, seq_len_segment=seq_len_segment)\n",
    "model.load_state_dict(torch.load('wavenet_model.pth', weights_only=False))\n",
    "model.eval()\n",
    "print('model loaded')\n",
    "model.to(device)\n",
    "\n",
    "import torch\n",
    "import torchaudio\n",
    "\n",
    "# input_data = data_generation_sample(data[0], mu=128, seq_len=len(data[0]),device = device)\n",
    "# print(input_data.shape)   \n",
    "generated_audio = model.generate(dataset.data[0].unsqueeze(0), num_samples=20)\n",
    "print(len(generated_audio))\n",
    "\n",
    "plt.figure(figsize=[16, 4])\n",
    "plt.plot(generated_audio)\n",
    "\n",
    "y = np.array(generated_audio)\n",
    "y = inv_mulaw_quantize(y, 128)\n",
    "print(y)\n",
    "generated_waveform = torch.tensor(y).float().to(device)\n",
    "generated_waveform = generated_waveform.cpu()\n",
    "torchaudio.save('generated_sample.wav', generated_waveform, 16000) \n",
    "\n",
    "'''\n",
    "seed_length = mu - 30\n",
    "seed_input = torch.randint(0, mu, (seed_length,)).to(device)\n",
    "seed_input = seed_input.float().to(device)\n",
    "\n",
    "num_samples = 100\n",
    "generated_sequence = model.generate(seed_input, num_samples=10)\n",
    "generated_waveform = inv_mulaw_quantize(torch.tensor(generated_sequence).to(device), quantization_channels=mu)\n",
    "print(generated_sequence)\n",
    "\n",
    "generated_waveform = generated_waveform.cpu()\n",
    "torchaudio.save('generated_sample.wav', generated_waveform.unsqueeze(0), 24000) \n",
    "'''"
   ],
   "id": "d7f3c649ce0b237d",
   "outputs": [
    {
     "data": {
      "text/plain": [
       "  0%|          | 0/84 [00:00<?, ?it/s]"
      ],
      "application/vnd.jupyter.widget-view+json": {
       "version_major": 2,
       "version_minor": 0,
       "model_id": "128932134d6143b09c416f4915ff3dd1"
      }
     },
     "metadata": {},
     "output_type": "display_data"
    },
    {
     "name": "stdout",
     "output_type": "stream",
     "text": [
      "model loaded\n"
     ]
    },
    {
     "data": {
      "text/plain": [
       "  0%|          | 0/20 [00:00<?, ?it/s]"
      ],
      "application/vnd.jupyter.widget-view+json": {
       "version_major": 2,
       "version_minor": 0,
       "model_id": "193e1fbabffe493fbb5c7545c2427ceb"
      }
     },
     "metadata": {},
     "output_type": "display_data"
    },
    {
     "name": "stdout",
     "output_type": "stream",
     "text": [
      "21\n",
      "[[-0.9634021  -0.96340406 -0.9633649  ... -0.9634047  -0.9634047\n",
      "  -0.9634047 ]\n",
      " [-1.         -1.         -1.         ... -1.         -1.\n",
      "  -1.        ]\n",
      " [-1.         -1.         -1.         ... -1.         -1.\n",
      "  -1.        ]\n",
      " ...\n",
      " [-1.         -1.         -1.         ... -1.         -1.\n",
      "  -1.        ]\n",
      " [-1.         -1.         -1.         ... -1.         -1.\n",
      "  -1.        ]\n",
      " [-1.         -1.         -1.         ... -1.         -1.\n",
      "  -1.        ]]\n"
     ]
    },
    {
     "data": {
      "text/plain": [
       "\"\\nseed_length = mu - 30\\nseed_input = torch.randint(0, mu, (seed_length,)).to(device)\\nseed_input = seed_input.float().to(device)\\n\\nnum_samples = 100\\ngenerated_sequence = model.generate(seed_input, num_samples=10)\\ngenerated_waveform = inv_mulaw_quantize(torch.tensor(generated_sequence).to(device), quantization_channels=mu)\\nprint(generated_sequence)\\n\\ngenerated_waveform = generated_waveform.cpu()\\ntorchaudio.save('generated_sample.wav', generated_waveform.unsqueeze(0), 24000) \\n\""
      ]
     },
     "execution_count": 4,
     "metadata": {},
     "output_type": "execute_result"
    },
    {
     "data": {
      "text/plain": [
       "<Figure size 1600x400 with 1 Axes>"
      ],
      "image/png": "[encoded data removed]"
     },
     "metadata": {},
     "output_type": "display_data"
    }
   ],
   "execution_count": 4
  },
  {
   "metadata": {},
   "cell_type": "code",
   "outputs": [],
   "execution_count": null,
   "source": "",
   "id": "cc6548e74631dc95"
  }
 ],
 "metadata": {
  "kernelspec": {
   "display_name": "Python 3",
   "language": "python",
   "name": "python3"
  },
  "language_info": {
   "codemirror_mode": {
    "name": "ipython",
    "version": 2
   },
   "file_extension": ".py",
   "mimetype": "text/x-python",
   "name": "python",
   "nbconvert_exporter": "python",
   "pygments_lexer": "ipython2",
   "version": "2.7.6"
  }
 },
 "nbformat": 4,
 "nbformat_minor": 5
}
