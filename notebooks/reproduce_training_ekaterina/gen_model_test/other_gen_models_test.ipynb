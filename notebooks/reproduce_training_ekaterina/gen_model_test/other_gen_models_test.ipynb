{
 "cells": [
  {
   "cell_type": "code",
   "execution_count": null,
   "id": "initial_id",
   "metadata": {
    "collapsed": true
   },
   "outputs": [],
   "source": [
    "def makeGeneratorTrumpet(gen, max_length, prev_length, pred_length):\n",
    "    # inputs\n",
    "    compressedSound = tf.keras.Input(shape=(20,))\n",
    "    preceedingValues = tf.keras.Input(shape=(prev_length,1))\n",
    "    \n",
    "    # reproduce encoder until waist\n",
    "    reshape =   gen.layers[6](preceedingValues)\n",
    "    conc = gen.layers[8]([reshape, compressedSound])\n",
    "    \n",
    "    # pass through dense layers\n",
    "    dense3 = gen.layers[9](conc)\n",
    "    dense4 = gen.layers[10](dense3)\n",
    "    dense5 = gen.layers[11](dense4)\n",
    "\n",
    "    # output\n",
    "    dense_out = gen.layers[12](dense5)\n",
    "    \n",
    "    model = tf.keras.Model(inputs=[compressedSound, preceedingValues], outputs=dense_out)\n",
    "\n",
    "    # make all of it non-trainable\n",
    "    for i in range(len(model.layers)):\n",
    "        model.layers[i].trainable = False\n",
    "\n",
    "    return(model) "
   ]
  },
  {
   "cell_type": "code",
   "execution_count": null,
   "outputs": [],
   "source": [
    "import sys\n",
    "from models.ddpm.DDPMBase import DDPMBase\n",
    "from models.ddpm.CAUnet import CAUnet, UNet_conditional\n",
    "\n",
    "import matplotlib.pyplot as plt\n",
    "import torch\n",
    "torch.backends.cudnn.benchmark = True\n",
    "\n",
    "import numpy as np\n",
    "import lightning as lt\n",
    "torch.set_float32_matmul_precision('medium')\n",
    "\n",
    "import soundfile as sf\n",
    "from datasets import load_dataset\n",
    "\n",
    "dataset = load_dataset('DBD-research-group/BirdSet','HSN')\n",
    "file_path = dataset['test_5s'][356]['filepath']\n",
    "sample, samplerate = sf.read(file_path)\n",
    "sample = torch.tensor(sample,device='cuda',dtype=torch.float32)\n",
    "\n"
   ],
   "metadata": {
    "collapsed": false
   },
   "id": "ee3952c8bca5009b"
  }
 ],
 "metadata": {
  "kernelspec": {
   "display_name": "Python 3",
   "language": "python",
   "name": "python3"
  },
  "language_info": {
   "codemirror_mode": {
    "name": "ipython",
    "version": 2
   },
   "file_extension": ".py",
   "mimetype": "text/x-python",
   "name": "python",
   "nbconvert_exporter": "python",
   "pygments_lexer": "ipython2",
   "version": "2.7.6"
  }
 },
 "nbformat": 4,
 "nbformat_minor": 5
}
