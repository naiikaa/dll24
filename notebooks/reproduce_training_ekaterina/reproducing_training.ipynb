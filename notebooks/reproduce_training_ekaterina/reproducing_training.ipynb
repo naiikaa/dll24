{
 "cells": [
  {
   "cell_type": "code",
   "execution_count": null,
   "id": "initial_id",
   "metadata": {
    "collapsed": true
   },
   "outputs": [],
   "source": [
    "import os\n",
    "import random\n",
    "import numpy as np\n",
    "import soundfile as sf\n",
    "import librosa\n",
    "import librosa.display\n",
    "import matplotlib.pyplot as plt\n",
    "from scipy.io import wavfile\n",
    "from datasets import load_dataset\n",
    "from tensorflow.keras.preprocessing.image import ImageDataGenerator\n",
    "\n",
    "# get dataset \n",
    "dataset = load_dataset('DBD-research-group/BirdSet', 'HSN', trust_remote_code=True)\n",
    "\n",
    "def preprocess_audio(file_path):\n",
    "    data, samplerate = sf.read(file_path)\n",
    "    D = np.abs(librosa.stft(data))**2\n",
    "    S = librosa.feature.melspectrogram(S=D, sr=samplerate)\n",
    "    log_S = librosa.power_to_db(S, ref=np.max)\n",
    "    return log_S, samplerate\n",
    "\n",
    "def augment_audio(data, rate):\n",
    "    # Time-stretching\n",
    "    data_stretch = librosa.effects.time_stretch(data, rate=random.uniform(0.8, 1.2))\n",
    "    # Pitch-shifting\n",
    "    data_shift = librosa.effects.pitch_shift(data, sr=rate, n_steps=random.randint(-5, 5))\n",
    "    # Adding noise\n",
    "    noise = np.random.randn(len(data))\n",
    "    data_noise = data + 0.005 * noise\n",
    "    return data_stretch, data_shift, data_noise\n",
    "\n",
    "# Preprocess and augment data\n",
    "preprocessed_data = []\n",
    "for i in range(len(dataset['train'])):\n",
    "    file_path = dataset['train'][i]['filepath']\n",
    "    log_S, samplerate = preprocess_audio(file_path)\n",
    "    data_stretch, data_shift, data_noise = augment_audio(log_S, samplerate)\n",
    "    preprocessed_data.extend([log_S, data_stretch, data_shift, data_noise])\n",
    "\n",
    "# Visualize example spectrogram\n",
    "plt.figure(figsize=(10, 4))\n",
    "librosa.display.specshow(log_S, sr=samplerate, y_axis='mel', x_axis='time')\n",
    "plt.title('Mel Spectrogram')\n",
    "plt.colorbar(format='%+2.0f dB')\n",
    "plt.show()\n",
    "\n",
    "# Example data shape and stats\n",
    "print(f'Processed Data Shape: {np.array(preprocessed_data).shape}')\n",
    "print(f'Sample Rate: {samplerate}')\n"
   ]
  },
  {
   "cell_type": "code",
   "execution_count": null,
   "outputs": [],
   "source": [],
   "metadata": {
    "collapsed": false
   },
   "id": "dc522ec4e50ee5ea"
  }
 ],
 "metadata": {
  "kernelspec": {
   "display_name": "Python 3",
   "language": "python",
   "name": "python3"
  },
  "language_info": {
   "codemirror_mode": {
    "name": "ipython",
    "version": 2
   },
   "file_extension": ".py",
   "mimetype": "text/x-python",
   "name": "python",
   "nbconvert_exporter": "python",
   "pygments_lexer": "ipython2",
   "version": "2.7.6"
  }
 },
 "nbformat": 4,
 "nbformat_minor": 5
}
