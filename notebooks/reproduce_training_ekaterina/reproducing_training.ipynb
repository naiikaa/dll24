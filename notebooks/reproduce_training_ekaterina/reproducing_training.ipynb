{
 "cells": [
  {
   "cell_type": "code",
   "execution_count": 3,
   "id": "initial_id",
   "metadata": {
    "collapsed": true,
    "ExecuteTime": {
     "end_time": "2024-07-22T20:03:20.458109100Z",
     "start_time": "2024-07-22T20:02:02.545879800Z"
    }
   },
   "outputs": [
    {
     "data": {
      "text/plain": "Map (num_proc=3):   0%|          | 0/17940 [00:00<?, ? examples/s]",
      "application/vnd.jupyter.widget-view+json": {
       "version_major": 2,
       "version_minor": 0,
       "model_id": "b3a4a1afe6ff4b17aa2235783da07e7e"
      }
     },
     "metadata": {},
     "output_type": "display_data"
    },
    {
     "data": {
      "text/plain": "Saving the dataset (0/1 shards):   0%|          | 0/14352 [00:00<?, ? examples/s]",
      "application/vnd.jupyter.widget-view+json": {
       "version_major": 2,
       "version_minor": 0,
       "model_id": "d8b44e4c75054a68b9bc649f9a45bfe6"
      }
     },
     "metadata": {},
     "output_type": "display_data"
    },
    {
     "data": {
      "text/plain": "Saving the dataset (0/1 shards):   0%|          | 0/3588 [00:00<?, ? examples/s]",
      "application/vnd.jupyter.widget-view+json": {
       "version_major": 2,
       "version_minor": 0,
       "model_id": "e77df6c9e3cf4d6faa4bf28564a4e3bc"
      }
     },
     "metadata": {},
     "output_type": "display_data"
    },
    {
     "data": {
      "text/plain": "Saving the dataset (0/1 shards):   0%|          | 0/12000 [00:00<?, ? examples/s]",
      "application/vnd.jupyter.widget-view+json": {
       "version_major": 2,
       "version_minor": 0,
       "model_id": "b32f20a60a0040a89bd06a6a87806019"
      }
     },
     "metadata": {},
     "output_type": "display_data"
    },
    {
     "name": "stdout",
     "output_type": "stream",
     "text": [
      "torch.Size([32, 1, 128, 1024])\n",
      "torch.Size([32, 21])\n"
     ]
    }
   ],
   "source": [
    "from configs_local.datamodule_configs import DatasetConfig\n",
    "from datamodule.birdset_datamodule import BirdSetDataModule\n",
    "\n",
    "# initiate the data module\n",
    "dm = BirdSetDataModule(\n",
    "    dataset=DatasetConfig(\n",
    "        data_dir='./data_birdset/HSN',\n",
    "        dataset_name='HSN',\n",
    "        hf_path='DBD-research-group/BirdSet',\n",
    "        hf_name='HSN',\n",
    "        n_workers=3,\n",
    "        val_split=0.2,\n",
    "        task=\"multilabel\",\n",
    "        classlimit=500,\n",
    "        eventlimit=5,\n",
    "        sampling_rate=32000,\n",
    "    ),\n",
    ")\n",
    "# prepare the data (download dataset, ...)\n",
    "dm.prepare_data()\n",
    "# setup the dataloaders\n",
    "dm.setup(stage=\"fit\")\n",
    "# get the dataloaders\n",
    "train_loader = dm.train_dataloader()\n",
    "# get the first batch\n",
    "batch = next(iter(train_loader))\n",
    "# get shape of the batch\n",
    "print(batch[\"input_values\"].shape)\n",
    "print(batch[\"labels\"].shape)"
   ]
  },
  {
   "cell_type": "code",
   "execution_count": 4,
   "outputs": [
    {
     "name": "stderr",
     "output_type": "stream",
     "text": [
      "GPU available: False, used: False\n",
      "TPU available: False, using: 0 TPU cores\n",
      "HPU available: False, using: 0 HPUs\n",
      "Running in `fast_dev_run` mode: will run the requested loop using 1 batch(es). Logging and checkpointing is suppressed.\n"
     ]
    }
   ],
   "source": [
    "from lightning import Trainer\n",
    "min_epochs = 1\n",
    "max_epochs = 5\n",
    "trainer = Trainer(min_epochs=min_epochs, max_epochs=max_epochs, devices=1, fast_dev_run=True, min_steps=250, max_steps=450)"
   ],
   "metadata": {
    "collapsed": false,
    "ExecuteTime": {
     "end_time": "2024-07-22T20:03:20.527301500Z",
     "start_time": "2024-07-22T20:03:20.457109600Z"
    }
   },
   "id": "dc522ec4e50ee5ea"
  },
  {
   "cell_type": "code",
   "execution_count": 5,
   "outputs": [],
   "source": [
    "from birdset.modules.base_module import BaseModule\n",
    "model = BaseModule(\n",
    "    len_trainset=dm.len_trainset,\n",
    "    task=dm.task,\n",
    "    batch_size=dm.train_batch_size,\n",
    "    num_epochs=max_epochs)"
   ],
   "metadata": {
    "collapsed": false,
    "ExecuteTime": {
     "end_time": "2024-07-22T20:03:20.576598700Z",
     "start_time": "2024-07-22T20:03:20.486740500Z"
    }
   },
   "id": "8264358b75aa6738"
  },
  {
   "cell_type": "code",
   "execution_count": 6,
   "outputs": [
    {
     "name": "stderr",
     "output_type": "stream",
     "text": [
      "\n",
      "  | Name                  | Type                   | Params | Mode \n",
      "-------------------------------------------------------------------------\n",
      "0 | loss                  | BCEWithLogitsLoss      | 0      | train\n",
      "1 | model                 | EfficientNetClassifier | 6.5 M  | train\n",
      "2 | train_metric          | cmAP                   | 0      | train\n",
      "3 | valid_metric          | cmAP                   | 0      | train\n",
      "4 | test_metric           | cmAP                   | 0      | train\n",
      "5 | valid_metric_best     | MaxMetric              | 0      | train\n",
      "6 | valid_add_metrics     | MetricCollection       | 0      | train\n",
      "7 | test_add_metrics      | MetricCollection       | 0      | train\n",
      "8 | test_complete_metrics | MetricCollection       | 0      | train\n",
      "-------------------------------------------------------------------------\n",
      "6.5 M     Trainable params\n",
      "0         Non-trainable params\n",
      "6.5 M     Total params\n",
      "26.158    Total estimated model params size (MB)\n"
     ]
    },
    {
     "data": {
      "text/plain": "Training: |          | 0/? [00:00<?, ?it/s]",
      "application/vnd.jupyter.widget-view+json": {
       "version_major": 2,
       "version_minor": 0,
       "model_id": "85a86628cb494bcaba2bb5e02829ebc4"
      }
     },
     "metadata": {},
     "output_type": "display_data"
    },
    {
     "data": {
      "text/plain": "Validation: |          | 0/? [00:00<?, ?it/s]",
      "application/vnd.jupyter.widget-view+json": {
       "version_major": 2,
       "version_minor": 0,
       "model_id": "1cc0c15a0c4648649f62b6cdf39e8522"
      }
     },
     "metadata": {},
     "output_type": "display_data"
    },
    {
     "name": "stderr",
     "output_type": "stream",
     "text": [
      "`Trainer.fit` stopped: `max_steps=1` reached.\n"
     ]
    }
   ],
   "source": [
    "trainer.fit(model, dm)"
   ],
   "metadata": {
    "collapsed": false,
    "ExecuteTime": {
     "end_time": "2024-07-22T20:03:52.394229Z",
     "start_time": "2024-07-22T20:03:20.553957200Z"
    }
   },
   "id": "3b02489131529268"
  },
  {
   "cell_type": "code",
   "execution_count": 7,
   "outputs": [
    {
     "data": {
      "text/plain": "Testing: |          | 0/? [00:00<?, ?it/s]",
      "application/vnd.jupyter.widget-view+json": {
       "version_major": 2,
       "version_minor": 0,
       "model_id": "1f15fe79cda24c8a860320aabb62fdda"
      }
     },
     "metadata": {},
     "output_type": "display_data"
    },
    {
     "data": {
      "text/plain": "┏━━━━━━━━━━━━━━━━━━━━━━━━━━━┳━━━━━━━━━━━━━━━━━━━━━━━━━━━┓\n┃\u001B[1m \u001B[0m\u001B[1m       Test metric       \u001B[0m\u001B[1m \u001B[0m┃\u001B[1m \u001B[0m\u001B[1m      DataLoader 0       \u001B[0m\u001B[1m \u001B[0m┃\n┡━━━━━━━━━━━━━━━━━━━━━━━━━━━╇━━━━━━━━━━━━━━━━━━━━━━━━━━━┩\n│\u001B[36m \u001B[0m\u001B[36m test/BCEWithLogitsLoss  \u001B[0m\u001B[36m \u001B[0m│\u001B[35m \u001B[0m\u001B[35m      0.7001953125       \u001B[0m\u001B[35m \u001B[0m│\n│\u001B[36m \u001B[0m\u001B[36m  test/MultilabelAUROC   \u001B[0m\u001B[36m \u001B[0m│\u001B[35m \u001B[0m\u001B[35m    0.095238097012043    \u001B[0m\u001B[35m \u001B[0m│\n│\u001B[36m \u001B[0m\u001B[36m     test/T1Accuracy     \u001B[0m\u001B[36m \u001B[0m│\u001B[35m \u001B[0m\u001B[35m           0.0           \u001B[0m\u001B[35m \u001B[0m│\n│\u001B[36m \u001B[0m\u001B[36m     test/T3Accuracy     \u001B[0m\u001B[36m \u001B[0m│\u001B[35m \u001B[0m\u001B[35m           0.0           \u001B[0m\u001B[35m \u001B[0m│\n│\u001B[36m \u001B[0m\u001B[36m        test/cmAP        \u001B[0m\u001B[36m \u001B[0m│\u001B[35m \u001B[0m\u001B[35m          0.125          \u001B[0m\u001B[35m \u001B[0m│\n│\u001B[36m \u001B[0m\u001B[36m        test/mAP         \u001B[0m\u001B[36m \u001B[0m│\u001B[35m \u001B[0m\u001B[35m  0.021725334227085114   \u001B[0m\u001B[35m \u001B[0m│\n└───────────────────────────┴───────────────────────────┘\n",
      "text/html": "<pre style=\"white-space:pre;overflow-x:auto;line-height:normal;font-family:Menlo,'DejaVu Sans Mono',consolas,'Courier New',monospace\">┏━━━━━━━━━━━━━━━━━━━━━━━━━━━┳━━━━━━━━━━━━━━━━━━━━━━━━━━━┓\n┃<span style=\"font-weight: bold\">        Test metric        </span>┃<span style=\"font-weight: bold\">       DataLoader 0        </span>┃\n┡━━━━━━━━━━━━━━━━━━━━━━━━━━━╇━━━━━━━━━━━━━━━━━━━━━━━━━━━┩\n│<span style=\"color: #008080; text-decoration-color: #008080\">  test/BCEWithLogitsLoss   </span>│<span style=\"color: #800080; text-decoration-color: #800080\">       0.7001953125        </span>│\n│<span style=\"color: #008080; text-decoration-color: #008080\">   test/MultilabelAUROC    </span>│<span style=\"color: #800080; text-decoration-color: #800080\">     0.095238097012043     </span>│\n│<span style=\"color: #008080; text-decoration-color: #008080\">      test/T1Accuracy      </span>│<span style=\"color: #800080; text-decoration-color: #800080\">            0.0            </span>│\n│<span style=\"color: #008080; text-decoration-color: #008080\">      test/T3Accuracy      </span>│<span style=\"color: #800080; text-decoration-color: #800080\">            0.0            </span>│\n│<span style=\"color: #008080; text-decoration-color: #008080\">         test/cmAP         </span>│<span style=\"color: #800080; text-decoration-color: #800080\">           0.125           </span>│\n│<span style=\"color: #008080; text-decoration-color: #008080\">         test/mAP          </span>│<span style=\"color: #800080; text-decoration-color: #800080\">   0.021725334227085114    </span>│\n└───────────────────────────┴───────────────────────────┘\n</pre>\n"
     },
     "metadata": {},
     "output_type": "display_data"
    },
    {
     "data": {
      "text/plain": "[{'test/BCEWithLogitsLoss': 0.7001953125,\n  'test/cmAP': 0.125,\n  'test/MultilabelAUROC': 0.095238097012043,\n  'test/T1Accuracy': 0.0,\n  'test/T3Accuracy': 0.0,\n  'test/mAP': 0.021725334227085114}]"
     },
     "execution_count": 7,
     "metadata": {},
     "output_type": "execute_result"
    }
   ],
   "source": [
    "trainer.test(model, dm)"
   ],
   "metadata": {
    "collapsed": false,
    "ExecuteTime": {
     "end_time": "2024-07-22T20:29:04.163416200Z",
     "start_time": "2024-07-22T20:28:53.382220500Z"
    }
   },
   "id": "5648afe6fbf58937"
  },
  {
   "cell_type": "code",
   "execution_count": null,
   "outputs": [],
   "source": [],
   "metadata": {
    "collapsed": false
   },
   "id": "3fa92810243a7c3b"
  }
 ],
 "metadata": {
  "kernelspec": {
   "display_name": "Python 3",
   "language": "python",
   "name": "python3"
  },
  "language_info": {
   "codemirror_mode": {
    "name": "ipython",
    "version": 2
   },
   "file_extension": ".py",
   "mimetype": "text/x-python",
   "name": "python",
   "nbconvert_exporter": "python",
   "pygments_lexer": "ipython2",
   "version": "2.7.6"
  }
 },
 "nbformat": 4,
 "nbformat_minor": 5
}
