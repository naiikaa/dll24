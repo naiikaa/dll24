{
 "cells": [
  {
   "cell_type": "code",
   "execution_count": 1,
   "id": "1aa9d44b-7fe4-4e83-b678-f38ff4b0ad7b",
   "metadata": {
    "scrolled": true
   },
   "outputs": [
    {
     "name": "stdout",
     "output_type": "stream",
     "text": [
      "Preprocessing complete. Preprocessed audio files are saved in 'preprocessed_call_snippets/' directory.\n"
     ]
    }
   ],
   "source": [
    "import os\n",
    "import glob\n",
    "import numpy as np\n",
    "import librosa\n",
    "import soundfile as sf\n",
    "\n",
    "# Create directory for saving preprocessed audio files\n",
    "os.makedirs('preprocessed_call_snippets', exist_ok=True)\n",
    "\n",
    "def preprocess_and_save_audio(filepath):\n",
    "    # Extract filename without path\n",
    "    filename = os.path.basename(filepath)\n",
    "    # Extract ebird_code and indices from the filename\n",
    "    ebird_code, idx, event_idx = filename.replace('.wav', '').split('_')\n",
    "    \n",
    "    # Load the audio file using librosa\n",
    "    y, sr = librosa.load(filepath, sr=None)\n",
    "    \n",
    "    # Convert to mono if it's stereo\n",
    "    y_mono = librosa.to_mono(y)\n",
    "    \n",
    "    # Resample the audio to exactly 22,000 Hz\n",
    "    target_sr = 22000\n",
    "    y_resampled = librosa.resample(y_mono, orig_sr=sr, target_sr=target_sr)\n",
    "    \n",
    "    # Calculate the number of samples for 5 seconds\n",
    "    target_samples = target_sr * 5\n",
    "\n",
    "    # Trim or pad the audio to exactly 5 seconds\n",
    "    y_trimmed = librosa.util.fix_length(y_resampled, size=target_samples)\n",
    "    \n",
    "    # Save the processed audio to a WAV file\n",
    "    output_filename = f\"{ebird_code}_{idx}_{event_idx}.wav\"\n",
    "    output_filepath = os.path.join('preprocessed_call_snippets', output_filename)\n",
    "    sf.write(output_filepath, y_trimmed, samplerate=target_sr)\n",
    "    \n",
    "    # print(f\"Processed and saved: {output_filename}\")\n",
    "    return output_filename\n",
    "\n",
    "# Get list of audio files in 'bird_snippets'\n",
    "audio_files = glob.glob('bird_snippets/*.wav')\n",
    "\n",
    "# Process each audio file\n",
    "for filepath in audio_files:\n",
    "    preprocess_and_save_audio(filepath)\n",
    "\n",
    "print(\"Preprocessing complete. Preprocessed audio files are saved in 'preprocessed_call_snippets/' directory.\")\n"
   ]
  },
  {
   "cell_type": "code",
   "execution_count": 2,
   "id": "4159e800-18bf-4f08-95ad-468070e32d9c",
   "metadata": {},
   "outputs": [],
   "source": [
    "# to save metadata for the whole preprocessed files:\n",
    "import csv\n",
    "\n",
    "# Open a CSV file to write metadata\n",
    "with open('preprocessed_call_snippets/metadata.csv', 'w', newline='') as csvfile:\n",
    "    csvwriter = csv.writer(csvfile)\n",
    "    # Write header\n",
    "    csvwriter.writerow(['filename', 'ebird_code', 'idx', 'event_idx'])\n",
    "    \n",
    "    # Process each audio file\n",
    "    for filepath in audio_files:\n",
    "        filename = preprocess_and_save_audio(filepath)\n",
    "        # Write metadata\n",
    "        ebird_code, idx, event_idx = filename.replace('.wav', '').split('_')\n",
    "        csvwriter.writerow([filename, ebird_code, idx, event_idx])\n"
   ]
  },
  {
   "cell_type": "code",
   "execution_count": null,
   "id": "5595c0c8-2586-4a46-9ccd-fd2d4b5f9ee4",
   "metadata": {},
   "outputs": [],
   "source": []
  }
 ],
 "metadata": {
  "kernelspec": {
   "display_name": "Python (deepLabVenv)",
   "language": "python",
   "name": "deeplabvenv"
  },
  "language_info": {
   "codemirror_mode": {
    "name": "ipython",
    "version": 3
   },
   "file_extension": ".py",
   "mimetype": "text/x-python",
   "name": "python",
   "nbconvert_exporter": "python",
   "pygments_lexer": "ipython3",
   "version": "3.12.4"
  }
 },
 "nbformat": 4,
 "nbformat_minor": 5
}
