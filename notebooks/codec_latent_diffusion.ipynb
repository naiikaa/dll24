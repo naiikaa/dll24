{
 "cells": [
  {
   "cell_type": "code",
   "execution_count": 1,
   "metadata": {},
   "outputs": [],
   "source": [
    "import sys\n",
    "sys.path.append('/home/npopkov/dll24')\n",
    "\n",
    "import h5py\n",
    "import numpy as np\n",
    "import matplotlib.pyplot as plt\n",
    "from torch.utils.data import Dataset, DataLoader\n",
    "import torch\n",
    "torch.set_float32_matmul_precision('medium')\n",
    "\n",
    "class LatentDataset(Dataset):\n",
    "    def __init__(self, h5_file):\n",
    "        self.data = self.createData(h5_file)\n",
    "\n",
    "    def createData(self, h5_file):\n",
    "        data = []\n",
    "        for key in h5_file.keys():\n",
    "            data.append(np.array(h5_file[key]))\n",
    "        \n",
    "        return torch.tensor(np.array(data))\n",
    "\n",
    "    def __len__(self):\n",
    "        return len(self.data)\n",
    "\n",
    "    def __getitem__(self, idx):\n",
    "        return self.data[idx]\n",
    "\n",
    "hdf = h5py.File('encoded_samples.hdf5', 'r')\n",
    "dataset = LatentDataset(hdf)\n",
    "hdf.close()"
   ]
  },
  {
   "cell_type": "code",
   "execution_count": 2,
   "metadata": {},
   "outputs": [
    {
     "data": {
      "text/plain": [
       "torch.Size([256, 103])"
      ]
     },
     "execution_count": 2,
     "metadata": {},
     "output_type": "execute_result"
    }
   ],
   "source": [
    "dataset.data[0].shape"
   ]
  },
  {
   "cell_type": "code",
   "execution_count": 3,
   "metadata": {},
   "outputs": [
    {
     "name": "stderr",
     "output_type": "stream",
     "text": [
      "/home/npopkov/dll24/.conda/lib/python3.9/site-packages/tqdm/auto.py:21: TqdmWarning: IProgress not found. Please update jupyter and ipywidgets. See https://ipywidgets.readthedocs.io/en/stable/user_install.html\n",
      "  from .autonotebook import tqdm as notebook_tqdm\n"
     ]
    }
   ],
   "source": [
    "from models.ddpm.DDPMBase import DDPMBase\n",
    "from models.ddpm.CAUnet import CAUnet\n",
    "\n",
    "\n",
    "n_steps, betaMin, betaMax = 200, 10**-6, 0.002\n",
    "\n",
    "network = CAUnet(n_steps=n_steps,\n",
    "                 c_in=256,\n",
    "                 c_out=256,).to('cuda')\n",
    "\n",
    "model = DDPMBase(network=network,\n",
    "                betaMin=betaMin,\n",
    "                betaMax=betaMax,\n",
    "                n_steps=n_steps).to('cuda')"
   ]
  },
  {
   "cell_type": "code",
   "execution_count": 4,
   "metadata": {},
   "outputs": [],
   "source": [
    "# from audio_diffusion_pytorch import DiffusionModel, UNetV0, VDiffusion, VSampler\n",
    "\n",
    "# model = DiffusionModel(\n",
    "#     net_t=UNetV0, # The model type used for diffusion (U-Net V0 in this case)\n",
    "#     in_channels=256, # U-Net: number of input/output (audio) channels\n",
    "#     channels=[8, 32, 64, 128, 256, 512, 512, 1024, 1024], # U-Net: channels at each layer\n",
    "#     factors=[1, 4, 4, 4, 2, 2, 2, 2, 2], # U-Net: downsampling and upsampling factors at each layer\n",
    "#     items=[1, 2, 2, 2, 2, 2, 2, 4, 4], # U-Net: number of repeating items at each layer\n",
    "#     attentions=[1,1,1, 1, 1, 1, 1, 1, 1], # U-Net: attention enabled/disabled at each layer\n",
    "#     attention_heads=16, # U-Net: number of attention heads per attention item\n",
    "#     attention_features=64, # U-Net: number of attention features per attention item\n",
    "#     diffusion_t=VDiffusion, # The diffusion method used\n",
    "#     sampler_t=VSampler, # The diffusion sampler used\n",
    "# )"
   ]
  },
  {
   "cell_type": "code",
   "execution_count": 5,
   "metadata": {},
   "outputs": [
    {
     "data": {
      "text/plain": [
       "103"
      ]
     },
     "execution_count": 5,
     "metadata": {},
     "output_type": "execute_result"
    }
   ],
   "source": [
    "dataset.data.shape[-1]"
   ]
  },
  {
   "cell_type": "code",
   "execution_count": 6,
   "metadata": {},
   "outputs": [
    {
     "name": "stderr",
     "output_type": "stream",
     "text": [
      "GPU available: True (cuda), used: True\n",
      "TPU available: False, using: 0 TPU cores\n",
      "HPU available: False, using: 0 HPUs\n",
      "LOCAL_RANK: 0 - CUDA_VISIBLE_DEVICES: [0]\n",
      "\n",
      "  | Name    | Type   | Params | Mode \n",
      "-------------------------------------------\n",
      "0 | network | CAUnet | 375 M  | train\n",
      "-------------------------------------------\n",
      "375 M     Trainable params\n",
      "0         Non-trainable params\n",
      "375 M     Total params\n",
      "1,501.201 Total estimated model params size (MB)\n",
      "197       Modules in train mode\n",
      "0         Modules in eval mode\n"
     ]
    },
    {
     "name": "stdout",
     "output_type": "stream",
     "text": [
      "Epoch 19: 100%|██████████| 54/54 [00:09<00:00,  5.86it/s, v_num=218]"
     ]
    }
   ],
   "source": [
    "import lightning as lt\n",
    "\n",
    "class Lightningwrapper(lt.LightningModule):\n",
    "    def __init__(self, model):\n",
    "        super().__init__()\n",
    "        self.model = model\n",
    "    def forward(self, x):\n",
    "        return self.model(x)\n",
    "    def training_step(self, batch, batch_idx):\n",
    "        loss = self.model(batch)\n",
    "        self.log('train_loss', loss)\n",
    "        return loss\n",
    "    def configure_optimizers(self):\n",
    "        return torch.optim.Adam(self.model.parameters(), lr=3e-4)\n",
    "\n",
    "#lt_model = Lightningwrapper(model)\n",
    "dataloader = DataLoader(dataset, batch_size=64,num_workers=30,shuffle=True,)\n",
    "# Train model with audio waveforms\n",
    "trainer = lt.Trainer(max_epochs=40)\n",
    "trainer.fit(model, dataloader)"
   ]
  }
 ],
 "metadata": {
  "kernelspec": {
   "display_name": "Python 3",
   "language": "python",
   "name": "python3"
  },
  "language_info": {
   "codemirror_mode": {
    "name": "ipython",
    "version": 3
   },
   "file_extension": ".py",
   "mimetype": "text/x-python",
   "name": "python",
   "nbconvert_exporter": "python",
   "pygments_lexer": "ipython3",
   "version": "3.9.19"
  }
 },
 "nbformat": 4,
 "nbformat_minor": 2
}
