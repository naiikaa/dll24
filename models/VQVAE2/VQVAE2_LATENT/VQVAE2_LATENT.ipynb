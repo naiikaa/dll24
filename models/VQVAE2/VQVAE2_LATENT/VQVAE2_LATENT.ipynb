{
 "cells": [
  {
   "metadata": {
    "ExecuteTime": {
     "end_time": "2024-10-13T10:14:17.218879Z",
     "start_time": "2024-10-13T10:06:56.378638Z"
    }
   },
   "cell_type": "code",
   "source": [
    "import matplotlib.pyplot as plt\n",
    "import torch\n",
    "import numpy as np\n",
    "from tqdm.auto import tqdm\n",
    "import torchaudio\n",
    "from torch import nn, optim\n",
    "import torch.nn.functional as F\n",
    "from torch.utils.data import Dataset, DataLoader\n",
    "\n",
    "class Encoder(nn.Module):\n",
    "    def __init__(self, in_channels, hidden_channels, embedding_dim):\n",
    "        super(Encoder, self).__init__()\n",
    "        self.conv1 = nn.Conv2d(in_channels, hidden_channels, kernel_size=4, stride=2, padding=1)\n",
    "        self.conv2 = nn.Conv2d(hidden_channels, hidden_channels, kernel_size=4, stride=2, padding=1)\n",
    "        self.conv3 = nn.Conv2d(hidden_channels, embedding_dim, kernel_size=3, stride=1, padding=1)\n",
    "\n",
    "    def forward(self, x):\n",
    "        x = F.relu(self.conv1(x))\n",
    "        x = F.relu(self.conv2(x))\n",
    "        x = self.conv3(x)\n",
    "        return x\n",
    "\n",
    "class Decoder(nn.Module):\n",
    "    def __init__(self, embedding_dim, hidden_channels, out_channels):\n",
    "        super(Decoder, self).__init__()\n",
    "        self.conv1 = nn.ConvTranspose2d(embedding_dim, hidden_channels, kernel_size=4, stride=2, padding=1)\n",
    "        self.conv2 = nn.ConvTranspose2d(hidden_channels, hidden_channels, kernel_size=4, stride=2, padding=1)\n",
    "        self.conv3 = nn.ConvTranspose2d(hidden_channels, out_channels, kernel_size=3, stride=1, padding=1)\n",
    "\n",
    "    def forward(self, x):\n",
    "        x = F.relu(self.conv1(x))\n",
    "        x = F.relu(self.conv2(x))\n",
    "        x = torch.sigmoid(self.conv3(x))\n",
    "        return x\n",
    "\n",
    "class VectorQuantizer(nn.Module):\n",
    "    def __init__(self, n_embeddings, embedding_dim, commitment_cost=0.25):\n",
    "        super(VectorQuantizer, self).__init__()\n",
    "        self.embedding_dim = embedding_dim\n",
    "        self.n_embeddings = n_embeddings\n",
    "        self.embeddings = nn.Embedding(n_embeddings, embedding_dim)\n",
    "        self.embeddings.weight.data.uniform_(-1 / n_embeddings, 1 / n_embeddings)\n",
    "        self.commitment_cost = commitment_cost\n",
    "\n",
    "    def forward(self, inputs):\n",
    "        flat_input = inputs.view(-1, self.embedding_dim)\n",
    "        distances = (torch.sum(flat_input ** 2, dim=1, keepdim=True)\n",
    "                     + torch.sum(self.embeddings.weight ** 2, dim=1)\n",
    "                     - 2 * torch.matmul(flat_input, self.embeddings.weight.t()))\n",
    "        encoding_indices = torch.argmin(distances, dim=1).unsqueeze(1)\n",
    "        quantized = torch.index_select(self.embeddings.weight, 0, encoding_indices.view(-1)).view(inputs.shape)\n",
    "        e_latent_loss = F.mse_loss(quantized.detach(), inputs)\n",
    "        q_latent_loss = F.mse_loss(quantized, inputs.detach())\n",
    "        loss = q_latent_loss + self.commitment_cost * e_latent_loss\n",
    "        quantized = inputs + (quantized - inputs).detach()\n",
    "        return quantized, loss, encoding_indices\n",
    "\n",
    "class VQVAE2(nn.Module):\n",
    "    def __init__(self, in_channels=1, hidden_channels=64, n_embeddings=512, embedding_dim=64):\n",
    "        super(VQVAE2, self).__init__()\n",
    "        self.encoder = Encoder(in_channels, hidden_channels, embedding_dim)\n",
    "        self.vq = VectorQuantizer(n_embeddings, embedding_dim)\n",
    "        self.decoder = Decoder(embedding_dim, hidden_channels, in_channels)\n",
    "\n",
    "    def forward(self, x):\n",
    "        z = self.encoder(x)\n",
    "        quantized, vq_loss, _ = self.vq(z)\n",
    "        x_recon = self.decoder(quantized)\n",
    "        x_recon = F.interpolate(x_recon, size=x.shape[-2:], mode='bilinear', align_corners=False)\n",
    "        return x_recon, vq_loss\n",
    "\n",
    "class SnippetDatasetHDF(Dataset):\n",
    "    def __init__(self, hdf, scaling='minmax'):\n",
    "        self.size = int(3.4 * 24000)\n",
    "        self.scaling = scaling\n",
    "        self.data = self.create_data(hdf)\n",
    "        if scaling == 'standard':\n",
    "            self.mean = self.data.mean()\n",
    "            self.std = self.data.std()\n",
    "            self.data = (self.data - self.mean) / self.std\n",
    "        elif scaling == 'minmax':\n",
    "            self.min = self.data.min()\n",
    "            self.max = self.data.max()\n",
    "            self.data = (self.data - self.min) / (self.max - self.min)\n",
    "\n",
    "    def __len__(self):\n",
    "        return len(self.data)\n",
    "\n",
    "    def __getitem__(self, idx):\n",
    "        return self.data[idx]\n",
    "\n",
    "    def create_data(self, hdf):\n",
    "        keys = list(hdf.keys())\n",
    "        data = []\n",
    "        for key in tqdm(keys):\n",
    "            sample = hdf[key]['audio'][:]\n",
    "            if len(sample) < self.size:\n",
    "                sample = np.pad(sample, (0, self.size - len(sample)), 'constant')\n",
    "            data.append(sample)\n",
    "        return torch.tensor(data, dtype=torch.float32)\n",
    "\n",
    "    def retransform(self, data):\n",
    "        if self.scaling == 'standard':\n",
    "            return data * self.std + self.mean\n",
    "        elif self.scaling == 'minmax':\n",
    "            return data * (self.max - self.min) + self.min\n",
    "\n",
    "def train_vqvae2(model, dataloader, epochs=40, lr=1e-5):\n",
    "    optimizer = optim.Adam(model.parameters(), lr=lr)\n",
    "    criterion = nn.L1Loss()\n",
    "    scheduler = optim.lr_scheduler.ReduceLROnPlateau(optimizer, 'min', patience=3, verbose=True)\n",
    "    best_loss = float('inf')\n",
    "    patience_counter = 0\n",
    "    patience_limit = 5\n",
    "\n",
    "    for epoch in range(epochs):\n",
    "        model.train()\n",
    "        running_loss = 0.0\n",
    "        for latents in tqdm(dataloader, desc=f\"Epoch {epoch + 1}/{epochs}\"):\n",
    "            optimizer.zero_grad()\n",
    "            outputs, vq_loss = model(latents)\n",
    "            loss = criterion(outputs, latents) + vq_loss\n",
    "            loss.backward()\n",
    "            nn.utils.clip_grad_norm_(model.parameters(), max_norm=1.0)\n",
    "            optimizer.step()\n",
    "            running_loss += loss.item()\n",
    "\n",
    "        avg_loss = running_loss / len(dataloader)\n",
    "        print(f'Epoch {epoch + 1}/{epochs}, Loss: {avg_loss:.4f}')\n",
    "        scheduler.step(avg_loss)\n",
    "        if avg_loss < best_loss:\n",
    "            best_loss = avg_loss\n",
    "            patience_counter = 0\n",
    "        else:\n",
    "            patience_counter += 1\n",
    "            if patience_counter >= patience_limit:\n",
    "                print(\"Early stopping triggered.\")\n",
    "                break\n",
    "\n",
    "class LatentDataset(Dataset):\n",
    "    def __init__(self, latents_tensor):\n",
    "        self.latents_tensor = latents_tensor\n",
    "\n",
    "    def __len__(self):\n",
    "        return len(self.latents_tensor)\n",
    "\n",
    "    def __getitem__(self, idx):\n",
    "        return self.latents_tensor[idx]\n",
    "\n",
    "def initialize_weights(model):\n",
    "    for m in model.modules():\n",
    "        if isinstance(m, nn.Conv2d) or isinstance(m, nn.ConvTranspose2d):\n",
    "            nn.init.kaiming_normal_(m.weight, nonlinearity='relu')\n",
    "            if m.bias is not None:\n",
    "                nn.init.constant_(m.bias, 0)\n",
    "\n",
    "def generate_samples(model, num_samples=1, save_path='generated_sample.wav', sampling_rate=24000, output_length=24000):\n",
    "    model.eval()\n",
    "    with torch.no_grad():\n",
    "        dummy_input = torch.randn(1, 1, 64, 265000).to(next(model.parameters()).device)\n",
    "        z = model.encoder(dummy_input)\n",
    "        _, _, latent_height, latent_width = z.shape\n",
    "        encoding_indices = torch.randint(0, model.vq.n_embeddings, (num_samples, latent_height, latent_width)).to(next(model.parameters()).device)\n",
    "        quantized_latents = model.vq.embeddings(encoding_indices).view(num_samples, model.vq.embedding_dim, latent_height, latent_width)\n",
    "        noise = 0.1 * torch.randn_like(quantized_latents)\n",
    "        quantized_latents += noise\n",
    "        generated_samples = model.decoder(quantized_latents)\n",
    "        generated_waveform = generated_samples.view(num_samples, -1)\n",
    "        generated_waveform = F.interpolate(generated_waveform.unsqueeze(1), size=(output_length,), mode='linear', align_corners=False).squeeze().cpu()\n",
    "        generated_waveform = generated_waveform / torch.max(torch.abs(generated_waveform))\n",
    "        torchaudio.save(save_path, generated_waveform.unsqueeze(0), sampling_rate)\n",
    "        print(f\"Sample saved to {save_path}\")\n",
    "        plt.figure(figsize=(10, 4))\n",
    "        plt.plot(generated_waveform.numpy())\n",
    "        plt.title('Generated Waveform')\n",
    "        plt.xlabel('Sample Index')\n",
    "        plt.ylabel('Amplitude')\n",
    "        plt.show()\n",
    "\n",
    "latent_data = torch.load('latent_dataset.pt')\n",
    "latent_dataset = LatentDataset(latent_data)\n",
    "train_loader = DataLoader(latent_dataset, batch_size=16, shuffle=True)\n",
    "vqvae2_model = VQVAE2()\n",
    "initialize_weights(vqvae2_model)\n",
    "train_vqvae2(vqvae2_model, train_loader)\n",
    "generate_samples(vqvae2_model, num_samples=1, output_length=96000)\n"
   ],
   "id": "initial_id",
   "outputs": [
    {
     "name": "stderr",
     "output_type": "stream",
     "text": [
      "C:\\Users\\shale\\AppData\\Local\\Temp\\ipykernel_32192\\921107556.py:180: FutureWarning: You are using `torch.load` with `weights_only=False` (the current default value), which uses the default pickle module implicitly. It is possible to construct malicious pickle data which will execute arbitrary code during unpickling (See https://github.com/pytorch/pytorch/blob/main/SECURITY.md#untrusted-models for more details). In a future release, the default value for `weights_only` will be flipped to `True`. This limits the functions that could be executed during unpickling. Arbitrary objects will no longer be allowed to be loaded via this mode unless they are explicitly allowlisted by the user via `torch.serialization.add_safe_globals`. We recommend you start setting `weights_only=True` for any use case where you don't have full control of the loaded file. Please open an issue on GitHub for any issues related to this experimental feature.\n",
      "  latent_data = torch.load('latent_dataset.pt')\n"
     ]
    },
    {
     "data": {
      "text/plain": [
       "Epoch 1/40:   0%|          | 0/5 [00:00<?, ?it/s]"
      ],
      "application/vnd.jupyter.widget-view+json": {
       "version_major": 2,
       "version_minor": 0,
       "model_id": "3583bc7bd76c4d7685d396cf757c91c6"
      }
     },
     "metadata": {},
     "output_type": "display_data"
    },
    {
     "name": "stdout",
     "output_type": "stream",
     "text": [
      "Epoch 1/40, Loss: 6.1456\n"
     ]
    },
    {
     "data": {
      "text/plain": [
       "Epoch 2/40:   0%|          | 0/5 [00:00<?, ?it/s]"
      ],
      "application/vnd.jupyter.widget-view+json": {
       "version_major": 2,
       "version_minor": 0,
       "model_id": "546696f6199d4d7488b1ce2e5b406874"
      }
     },
     "metadata": {},
     "output_type": "display_data"
    },
    {
     "name": "stdout",
     "output_type": "stream",
     "text": [
      "Epoch 2/40, Loss: 5.9537\n"
     ]
    },
    {
     "data": {
      "text/plain": [
       "Epoch 3/40:   0%|          | 0/5 [00:00<?, ?it/s]"
      ],
      "application/vnd.jupyter.widget-view+json": {
       "version_major": 2,
       "version_minor": 0,
       "model_id": "0dc6b2c5fb7c47758a1413e1c17655b2"
      }
     },
     "metadata": {},
     "output_type": "display_data"
    },
    {
     "name": "stdout",
     "output_type": "stream",
     "text": [
      "Epoch 3/40, Loss: 5.7570\n"
     ]
    },
    {
     "data": {
      "text/plain": [
       "Epoch 4/40:   0%|          | 0/5 [00:00<?, ?it/s]"
      ],
      "application/vnd.jupyter.widget-view+json": {
       "version_major": 2,
       "version_minor": 0,
       "model_id": "f6209ea51b4749959fdf16a5f277b545"
      }
     },
     "metadata": {},
     "output_type": "display_data"
    },
    {
     "name": "stdout",
     "output_type": "stream",
     "text": [
      "Epoch 4/40, Loss: 5.5511\n"
     ]
    },
    {
     "data": {
      "text/plain": [
       "Epoch 5/40:   0%|          | 0/5 [00:00<?, ?it/s]"
      ],
      "application/vnd.jupyter.widget-view+json": {
       "version_major": 2,
       "version_minor": 0,
       "model_id": "8aff0ee7c3cc4c618de1044c6499751e"
      }
     },
     "metadata": {},
     "output_type": "display_data"
    },
    {
     "name": "stdout",
     "output_type": "stream",
     "text": [
      "Epoch 5/40, Loss: 5.3881\n"
     ]
    },
    {
     "data": {
      "text/plain": [
       "Epoch 6/40:   0%|          | 0/5 [00:00<?, ?it/s]"
      ],
      "application/vnd.jupyter.widget-view+json": {
       "version_major": 2,
       "version_minor": 0,
       "model_id": "2b95a3fc6cd34da8b8b41de71a67a7d4"
      }
     },
     "metadata": {},
     "output_type": "display_data"
    },
    {
     "name": "stdout",
     "output_type": "stream",
     "text": [
      "Epoch 6/40, Loss: 5.1823\n"
     ]
    },
    {
     "data": {
      "text/plain": [
       "Epoch 7/40:   0%|          | 0/5 [00:00<?, ?it/s]"
      ],
      "application/vnd.jupyter.widget-view+json": {
       "version_major": 2,
       "version_minor": 0,
       "model_id": "575abdec1c274cf49e858b7ed7dae031"
      }
     },
     "metadata": {},
     "output_type": "display_data"
    },
    {
     "name": "stdout",
     "output_type": "stream",
     "text": [
      "Epoch 7/40, Loss: 5.0438\n"
     ]
    },
    {
     "data": {
      "text/plain": [
       "Epoch 8/40:   0%|          | 0/5 [00:00<?, ?it/s]"
      ],
      "application/vnd.jupyter.widget-view+json": {
       "version_major": 2,
       "version_minor": 0,
       "model_id": "e6e8ee3f8fd34cf790f702dc0d12a7d6"
      }
     },
     "metadata": {},
     "output_type": "display_data"
    },
    {
     "name": "stdout",
     "output_type": "stream",
     "text": [
      "Epoch 8/40, Loss: 4.8849\n"
     ]
    },
    {
     "data": {
      "text/plain": [
       "Epoch 9/40:   0%|          | 0/5 [00:00<?, ?it/s]"
      ],
      "application/vnd.jupyter.widget-view+json": {
       "version_major": 2,
       "version_minor": 0,
       "model_id": "75a012c67fa443d8865838bb7d2a31e9"
      }
     },
     "metadata": {},
     "output_type": "display_data"
    },
    {
     "name": "stdout",
     "output_type": "stream",
     "text": [
      "Epoch 9/40, Loss: 4.7574\n"
     ]
    },
    {
     "data": {
      "text/plain": [
       "Epoch 10/40:   0%|          | 0/5 [00:00<?, ?it/s]"
      ],
      "application/vnd.jupyter.widget-view+json": {
       "version_major": 2,
       "version_minor": 0,
       "model_id": "d0bc78c73d7646648335c1c53c997b20"
      }
     },
     "metadata": {},
     "output_type": "display_data"
    },
    {
     "name": "stdout",
     "output_type": "stream",
     "text": [
      "Epoch 10/40, Loss: 4.6122\n"
     ]
    },
    {
     "data": {
      "text/plain": [
       "Epoch 11/40:   0%|          | 0/5 [00:00<?, ?it/s]"
      ],
      "application/vnd.jupyter.widget-view+json": {
       "version_major": 2,
       "version_minor": 0,
       "model_id": "461718511ead48c6b664e5f3b85ecff6"
      }
     },
     "metadata": {},
     "output_type": "display_data"
    },
    {
     "name": "stdout",
     "output_type": "stream",
     "text": [
      "Epoch 11/40, Loss: 4.4994\n"
     ]
    },
    {
     "data": {
      "text/plain": [
       "Epoch 12/40:   0%|          | 0/5 [00:00<?, ?it/s]"
      ],
      "application/vnd.jupyter.widget-view+json": {
       "version_major": 2,
       "version_minor": 0,
       "model_id": "041a15bede7b46a5ae17dbc6d4fe1bcd"
      }
     },
     "metadata": {},
     "output_type": "display_data"
    },
    {
     "name": "stdout",
     "output_type": "stream",
     "text": [
      "Epoch 12/40, Loss: 4.3679\n"
     ]
    },
    {
     "data": {
      "text/plain": [
       "Epoch 13/40:   0%|          | 0/5 [00:00<?, ?it/s]"
      ],
      "application/vnd.jupyter.widget-view+json": {
       "version_major": 2,
       "version_minor": 0,
       "model_id": "39b1c623e58d41cab11897fa72c0a609"
      }
     },
     "metadata": {},
     "output_type": "display_data"
    },
    {
     "name": "stdout",
     "output_type": "stream",
     "text": [
      "Epoch 13/40, Loss: 4.2446\n"
     ]
    },
    {
     "data": {
      "text/plain": [
       "Epoch 14/40:   0%|          | 0/5 [00:00<?, ?it/s]"
      ],
      "application/vnd.jupyter.widget-view+json": {
       "version_major": 2,
       "version_minor": 0,
       "model_id": "10643bbcbd9843dc9f9a4d6cfdaf9d29"
      }
     },
     "metadata": {},
     "output_type": "display_data"
    },
    {
     "name": "stdout",
     "output_type": "stream",
     "text": [
      "Epoch 14/40, Loss: 4.2076\n"
     ]
    },
    {
     "data": {
      "text/plain": [
       "Epoch 15/40:   0%|          | 0/5 [00:00<?, ?it/s]"
      ],
      "application/vnd.jupyter.widget-view+json": {
       "version_major": 2,
       "version_minor": 0,
       "model_id": "d9cc405db61a4fb7bb1b9b6a968e5d28"
      }
     },
     "metadata": {},
     "output_type": "display_data"
    },
    {
     "name": "stdout",
     "output_type": "stream",
     "text": [
      "Epoch 15/40, Loss: 4.0621\n"
     ]
    },
    {
     "data": {
      "text/plain": [
       "Epoch 16/40:   0%|          | 0/5 [00:00<?, ?it/s]"
      ],
      "application/vnd.jupyter.widget-view+json": {
       "version_major": 2,
       "version_minor": 0,
       "model_id": "d48901a3e3b84e7c85bdfdeae8b8e0e7"
      }
     },
     "metadata": {},
     "output_type": "display_data"
    },
    {
     "name": "stdout",
     "output_type": "stream",
     "text": [
      "Epoch 16/40, Loss: 3.9716\n"
     ]
    },
    {
     "data": {
      "text/plain": [
       "Epoch 17/40:   0%|          | 0/5 [00:00<?, ?it/s]"
      ],
      "application/vnd.jupyter.widget-view+json": {
       "version_major": 2,
       "version_minor": 0,
       "model_id": "9ed341bad6804fad9e33af1a4b63448d"
      }
     },
     "metadata": {},
     "output_type": "display_data"
    },
    {
     "name": "stdout",
     "output_type": "stream",
     "text": [
      "Epoch 17/40, Loss: 3.9096\n"
     ]
    },
    {
     "data": {
      "text/plain": [
       "Epoch 18/40:   0%|          | 0/5 [00:00<?, ?it/s]"
      ],
      "application/vnd.jupyter.widget-view+json": {
       "version_major": 2,
       "version_minor": 0,
       "model_id": "12a8913a53dc4ec980cd7c9d1af27a9b"
      }
     },
     "metadata": {},
     "output_type": "display_data"
    },
    {
     "name": "stdout",
     "output_type": "stream",
     "text": [
      "Epoch 18/40, Loss: 3.8538\n"
     ]
    },
    {
     "data": {
      "text/plain": [
       "Epoch 19/40:   0%|          | 0/5 [00:00<?, ?it/s]"
      ],
      "application/vnd.jupyter.widget-view+json": {
       "version_major": 2,
       "version_minor": 0,
       "model_id": "8b5261ae68314866a99220082f6b17c5"
      }
     },
     "metadata": {},
     "output_type": "display_data"
    },
    {
     "name": "stdout",
     "output_type": "stream",
     "text": [
      "Epoch 19/40, Loss: 3.7707\n"
     ]
    },
    {
     "data": {
      "text/plain": [
       "Epoch 20/40:   0%|          | 0/5 [00:00<?, ?it/s]"
      ],
      "application/vnd.jupyter.widget-view+json": {
       "version_major": 2,
       "version_minor": 0,
       "model_id": "dd96201efb964212bb2be92055f1be68"
      }
     },
     "metadata": {},
     "output_type": "display_data"
    },
    {
     "name": "stdout",
     "output_type": "stream",
     "text": [
      "Epoch 20/40, Loss: 3.7390\n"
     ]
    },
    {
     "data": {
      "text/plain": [
       "Epoch 21/40:   0%|          | 0/5 [00:00<?, ?it/s]"
      ],
      "application/vnd.jupyter.widget-view+json": {
       "version_major": 2,
       "version_minor": 0,
       "model_id": "7b824239ee7949819564f96dbb53a81e"
      }
     },
     "metadata": {},
     "output_type": "display_data"
    },
    {
     "name": "stdout",
     "output_type": "stream",
     "text": [
      "Epoch 21/40, Loss: 3.6821\n"
     ]
    },
    {
     "data": {
      "text/plain": [
       "Epoch 22/40:   0%|          | 0/5 [00:00<?, ?it/s]"
      ],
      "application/vnd.jupyter.widget-view+json": {
       "version_major": 2,
       "version_minor": 0,
       "model_id": "48daa27ba62a4a1b944da0d43d95bc56"
      }
     },
     "metadata": {},
     "output_type": "display_data"
    },
    {
     "name": "stdout",
     "output_type": "stream",
     "text": [
      "Epoch 22/40, Loss: 3.6509\n"
     ]
    },
    {
     "data": {
      "text/plain": [
       "Epoch 23/40:   0%|          | 0/5 [00:00<?, ?it/s]"
      ],
      "application/vnd.jupyter.widget-view+json": {
       "version_major": 2,
       "version_minor": 0,
       "model_id": "b25abdef38254f52bbfe0e3cb8b728f1"
      }
     },
     "metadata": {},
     "output_type": "display_data"
    },
    {
     "name": "stdout",
     "output_type": "stream",
     "text": [
      "Epoch 23/40, Loss: 3.6702\n"
     ]
    },
    {
     "data": {
      "text/plain": [
       "Epoch 24/40:   0%|          | 0/5 [00:00<?, ?it/s]"
      ],
      "application/vnd.jupyter.widget-view+json": {
       "version_major": 2,
       "version_minor": 0,
       "model_id": "7ea69cf0aab64a8dad90c1a312dc4dbc"
      }
     },
     "metadata": {},
     "output_type": "display_data"
    },
    {
     "name": "stdout",
     "output_type": "stream",
     "text": [
      "Epoch 24/40, Loss: 3.6761\n"
     ]
    },
    {
     "data": {
      "text/plain": [
       "Epoch 25/40:   0%|          | 0/5 [00:00<?, ?it/s]"
      ],
      "application/vnd.jupyter.widget-view+json": {
       "version_major": 2,
       "version_minor": 0,
       "model_id": "3bdc42e3dce74ef098b534cf032231d1"
      }
     },
     "metadata": {},
     "output_type": "display_data"
    },
    {
     "name": "stdout",
     "output_type": "stream",
     "text": [
      "Epoch 25/40, Loss: 3.6779\n"
     ]
    },
    {
     "data": {
      "text/plain": [
       "Epoch 26/40:   0%|          | 0/5 [00:00<?, ?it/s]"
      ],
      "application/vnd.jupyter.widget-view+json": {
       "version_major": 2,
       "version_minor": 0,
       "model_id": "8c6b3ff299ed4e19b30ba5d8601e601a"
      }
     },
     "metadata": {},
     "output_type": "display_data"
    },
    {
     "name": "stdout",
     "output_type": "stream",
     "text": [
      "Epoch 26/40, Loss: 3.6841\n"
     ]
    },
    {
     "data": {
      "text/plain": [
       "Epoch 27/40:   0%|          | 0/5 [00:00<?, ?it/s]"
      ],
      "application/vnd.jupyter.widget-view+json": {
       "version_major": 2,
       "version_minor": 0,
       "model_id": "5e1bd0914f714062a61651a85f66c27d"
      }
     },
     "metadata": {},
     "output_type": "display_data"
    },
    {
     "name": "stdout",
     "output_type": "stream",
     "text": [
      "Epoch 27/40, Loss: 3.7103\n",
      "Early stopping triggered.\n",
      "Sample saved to generated_sample.wav\n"
     ]
    },
    {
     "data": {
      "text/plain": [
       "<Figure size 1000x400 with 1 Axes>"
      ],
      "image/png": "[encoded data removed]"
     },
     "metadata": {},
     "output_type": "display_data"
    }
   ],
   "execution_count": 2
  },
  {
   "metadata": {},
   "cell_type": "code",
   "outputs": [],
   "execution_count": null,
   "source": "",
   "id": "54ca44419c03ac1e"
  }
 ],
 "metadata": {
  "kernelspec": {
   "display_name": "Python 3",
   "language": "python",
   "name": "python3"
  },
  "language_info": {
   "codemirror_mode": {
    "name": "ipython",
    "version": 2
   },
   "file_extension": ".py",
   "mimetype": "text/x-python",
   "name": "python",
   "nbconvert_exporter": "python",
   "pygments_lexer": "ipython2",
   "version": "2.7.6"
  }
 },
 "nbformat": 4,
 "nbformat_minor": 5
}
