{
 "cells": [
  {
   "metadata": {
    "ExecuteTime": {
     "end_time": "2024-10-12T18:31:24.185730Z",
     "start_time": "2024-10-12T18:24:08.565950Z"
    }
   },
   "cell_type": "code",
   "source": [
    "import sys\n",
    "import matplotlib.pyplot as plt\n",
    "import torch\n",
    "\n",
    "torch.backends.cudnn.benchmark = True\n",
    "import numpy as np\n",
    "\n",
    "torch.set_float32_matmul_precision('medium')\n",
    "import h5py\n",
    "from tqdm.auto import tqdm\n",
    "import dac\n",
    "from audiotools import AudioSignal\n",
    "import torchaudio\n",
    "from torch import nn, optim\n",
    "import torch.nn.functional as F\n",
    "import torch\n",
    "from torch.utils.data import Dataset, DataLoader\n",
    "\n",
    "\n",
    "class Encoder(nn.Module):\n",
    "    def __init__(self, in_channels, hidden_channels, n_embeddings, embedding_dim):\n",
    "        super(Encoder, self).__init__()\n",
    "        self.dropout = nn.Dropout(p=0.2)\n",
    "        self.conv1 = nn.Conv2d(in_channels, hidden_channels, kernel_size=4, stride=2, padding=1)\n",
    "        self.conv2 = nn.Conv2d(hidden_channels, hidden_channels, kernel_size=4, stride=2, padding=1)\n",
    "        self.conv3 = nn.Conv2d(hidden_channels, embedding_dim, kernel_size=3, stride=1, padding=1)\n",
    "\n",
    "    def forward(self, x):\n",
    "        # x = self.dropout(F.relu(self.conv1(x)))\n",
    "        x = F.relu(self.conv1(x))\n",
    "        x = F.relu(self.conv2(x))\n",
    "        x = self.conv3(x)\n",
    "        return x\n",
    "\n",
    "\n",
    "class Decoder(nn.Module):\n",
    "    def __init__(self, embedding_dim, hidden_channels, out_channels):\n",
    "        super(Decoder, self).__init__()\n",
    "        self.dropout = nn.Dropout(p=0.2)\n",
    "        self.conv1 = nn.ConvTranspose2d(embedding_dim, hidden_channels, kernel_size=4, stride=2, padding=1)\n",
    "        self.conv2 = nn.ConvTranspose2d(hidden_channels, hidden_channels, kernel_size=4, stride=2, padding=1)\n",
    "        self.conv3 = nn.ConvTranspose2d(hidden_channels, out_channels, kernel_size=3, stride=1, padding=1)\n",
    "\n",
    "    def forward(self, x):\n",
    "        # x = self.dropout(F.relu(self.conv1(x)))\n",
    "        x = F.relu(self.conv1(x))\n",
    "        x = F.relu(self.conv2(x))\n",
    "        x = torch.sigmoid(self.conv3(x))\n",
    "        return x\n",
    "\n",
    "\n",
    "class VectorQuantizer(nn.Module):\n",
    "    def __init__(self, n_embeddings, embedding_dim, commitment_cost=0.25):\n",
    "        super(VectorQuantizer, self).__init__()\n",
    "        self.embedding_dim = embedding_dim\n",
    "        self.n_embeddings = n_embeddings\n",
    "        self.embeddings = nn.Embedding(n_embeddings, embedding_dim)\n",
    "        self.embeddings.weight.data.uniform_(-1 / n_embeddings, 1 / n_embeddings)\n",
    "        self.commitment_cost = commitment_cost\n",
    "\n",
    "    def forward(self, inputs):\n",
    "        flat_input = inputs.view(-1, self.embedding_dim)\n",
    "        distances = (torch.sum(flat_input ** 2, dim=1, keepdim=True)\n",
    "                     + torch.sum(self.embeddings.weight ** 2, dim=1)\n",
    "                     - 2 * torch.matmul(flat_input, self.embeddings.weight.t()))\n",
    "\n",
    "        encoding_indices = torch.argmin(distances, dim=1).unsqueeze(1)\n",
    "        quantized = torch.index_select(self.embeddings.weight, 0, encoding_indices.view(-1))\n",
    "        quantized = quantized.view(inputs.shape)\n",
    "\n",
    "        # Commitment Loss\n",
    "        e_latent_loss = F.mse_loss(quantized.detach(), inputs)\n",
    "        q_latent_loss = F.mse_loss(quantized, inputs.detach())\n",
    "        loss = q_latent_loss + self.commitment_cost * e_latent_loss\n",
    "\n",
    "        quantized = inputs + (quantized - inputs).detach()\n",
    "        return quantized, loss, encoding_indices\n",
    "\n",
    "\n",
    "class VQVAE2(nn.Module):\n",
    "    def __init__(self, in_channels=1, hidden_channels=64, n_embeddings=512, embedding_dim=64):\n",
    "        super(VQVAE2, self).__init__()\n",
    "        self.encoder = Encoder(in_channels, hidden_channels, n_embeddings, embedding_dim)\n",
    "        self.vq = VectorQuantizer(n_embeddings, embedding_dim)\n",
    "        self.decoder = Decoder(embedding_dim, hidden_channels, in_channels)\n",
    "\n",
    "    def forward(self, x):\n",
    "        z = self.encoder(x)\n",
    "        quantized, vq_loss, _ = self.vq(z)\n",
    "        x_recon = self.decoder(quantized)\n",
    "        x_recon = F.interpolate(x_recon, size=x.shape[-2:], mode='bilinear', align_corners=False)\n",
    "        return x_recon, vq_loss\n",
    "\n",
    "\n",
    "class SnippetDatasetHDF(Dataset):\n",
    "    def __init__(self, hdf, scaling='minmax'):\n",
    "        self.num_rows = 0\n",
    "        self.size = int(3.4 * 24000)  # fixed size for samples\n",
    "        self.scaling = scaling\n",
    "        self.data = self.create_data(hdf)\n",
    "\n",
    "        if scaling == 'standard':\n",
    "            self.mean = self.data.mean()\n",
    "            self.std = self.data.std()\n",
    "            self.data = (self.data - self.mean) / self.std\n",
    "\n",
    "        elif scaling == 'minmax':\n",
    "            self.min = self.data.min()\n",
    "            self.max = self.data.max()\n",
    "            self.data = (self.data - self.min) / (self.max - self.min)\n",
    "\n",
    "    def __len__(self):\n",
    "        return self.num_rows\n",
    "\n",
    "    def __getitem__(self, idx):\n",
    "        return self.data[idx]\n",
    "\n",
    "\n",
    "    def create_data(self, hdf):\n",
    "        keys = list(hdf.keys())\n",
    "        self.num_rows = len(keys)\n",
    "        data = []\n",
    "        for key in tqdm(keys):\n",
    "            sample = hdf[key]['audio'][:]\n",
    "            if len(sample) < self.size:\n",
    "                sample = np.pad(sample, (0, self.size - len(sample)), 'constant')\n",
    "                data.append(sample)\n",
    "            else:\n",
    "                self.num_rows -= 1\n",
    "        return torch.tensor(data, dtype=torch.float32)\n",
    "\n",
    "    def retransform(self, data):\n",
    "        if self.scaling == 'standard':\n",
    "            return data * self.std + self.mean\n",
    "        elif self.scaling == 'minmax':\n",
    "            return data * (self.max - self.min) + self.min\n",
    "\n",
    "\n",
    "def train_vqvae2(model, dataloader, epochs=40, lr=1e-5):\n",
    "    optimizer = optim.Adam(model.parameters(), lr=lr)\n",
    "    criterion = nn.L1Loss()\n",
    "    scheduler = optim.lr_scheduler.ReduceLROnPlateau(optimizer, 'min', patience=2, verbose=True)\n",
    "    best_loss = float('inf')\n",
    "    patience_counter = 0\n",
    "    patience_limit = 5\n",
    "\n",
    "    for epoch in range(epochs):\n",
    "        model.train()\n",
    "        running_loss = 0.0\n",
    "\n",
    "        for latents in tqdm(dataloader, desc=f\"Training Epoch {epoch + 1}\"):\n",
    "            optimizer.zero_grad()\n",
    "            outputs, vq_loss = model(latents)\n",
    "            loss = criterion(outputs, latents) + vq_loss\n",
    "            loss.backward()\n",
    "            nn.utils.clip_grad_norm_(model.parameters(), max_norm=1.0)\n",
    "\n",
    "            optimizer.step()\n",
    "            running_loss += loss.item()\n",
    "\n",
    "        avg_loss = running_loss / len(dataloader)\n",
    "        print(f'Epoch {epoch + 1}/{epochs}, Loss: {avg_loss:.4f}')\n",
    "\n",
    "        scheduler.step(avg_loss)\n",
    "        if avg_loss < best_loss:\n",
    "            best_loss = avg_loss\n",
    "            patience_counter = 0\n",
    "        else:\n",
    "            patience_counter += 1\n",
    "            if patience_counter >= patience_limit:\n",
    "                print(\"Early stopping triggered.\")\n",
    "                break\n",
    "\n",
    "\n",
    "class LatentDataset(Dataset):\n",
    "    def __init__(self, latents_tensor):\n",
    "        self.latents_tensor = latents_tensor\n",
    "\n",
    "    def __len__(self):\n",
    "        return len(self.latents_tensor)\n",
    "\n",
    "    def __getitem__(self, idx):\n",
    "        return self.latents_tensor[idx]\n",
    "\n",
    "\n",
    "def initialize_weights(model):\n",
    "    for m in model.modules():\n",
    "        if isinstance(m, nn.Conv2d) or isinstance(m, nn.ConvTranspose2d):\n",
    "            nn.init.kaiming_normal_(m.weight, nonlinearity='relu')\n",
    "            if m.bias is not None:\n",
    "                nn.init.constant_(m.bias, 0)\n",
    "\n",
    "\n",
    "loaded_data = torch.load('latent_dataset.pt', weights_only=False)\n",
    "latent_dataset = LatentDataset(loaded_data)\n",
    "train_loader = DataLoader(latent_dataset, batch_size=16, shuffle=True)\n",
    "\n",
    "vqvae2_model = VQVAE2()\n",
    "initialize_weights(vqvae2_model)\n",
    "train_vqvae2(vqvae2_model, train_loader)\n",
    "\n",
    "\n",
    "def generate_samples(model, num_samples=1, save_path='generated_sample.wav', sampling_rate=24000, output_length=24000):\n",
    "    model.eval()\n",
    "    with torch.no_grad():\n",
    "        dummy_input = torch.randn(1, 1, 64, 265000).to(next(model.parameters()).device)\n",
    "        z = model.encoder(dummy_input)\n",
    "        _, _, latent_height, latent_width = z.shape\n",
    "\n",
    "        encoding_indices = torch.randint(0, model.vq.n_embeddings, (num_samples, latent_height, latent_width)).to(next(model.parameters()).device)\n",
    "        quantized_latents = model.vq.embeddings(encoding_indices).view(num_samples, model.vq.embedding_dim, latent_height, latent_width)\n",
    "\n",
    "        noise = 0.1 * torch.randn_like(quantized_latents)\n",
    "        quantized_latents += noise\n",
    "\n",
    "        generated_samples = model.decoder(quantized_latents)\n",
    "\n",
    "        print(\"Generated samples shape:\", generated_samples.size())\n",
    "\n",
    "        generated_waveform = generated_samples.view(num_samples, -1)\n",
    "        \n",
    "        generated_waveform = F.interpolate(generated_waveform.unsqueeze(1), size=(output_length,), mode='linear', align_corners=False)\n",
    "        generated_waveform = generated_waveform.squeeze().cpu()\n",
    "\n",
    "        generated_waveform = generated_waveform / torch.max(torch.abs(generated_waveform))\n",
    "        generated_waveform_np = generated_waveform.numpy().astype(np.float32)\n",
    "\n",
    "        torchaudio.save(save_path, torch.tensor(generated_waveform_np).unsqueeze(0), sampling_rate)\n",
    "        print(f\"Sample saved to {save_path}\")\n",
    "\n",
    "        plt.figure(figsize=(10, 4))\n",
    "        plt.plot(generated_waveform_np)\n",
    "        plt.title('Generated Waveform')\n",
    "        plt.xlabel('Sample Index')\n",
    "        plt.ylabel('Amplitude')\n",
    "        plt.show()\n",
    "\n",
    "        return generated_waveform_np\n",
    "\n",
    "generate_samples(vqvae2_model, num_samples=1, output_length=96000)\n",
    "\n",
    "\n",
    "\n"
   ],
   "id": "initial_id",
   "outputs": [
    {
     "data": {
      "text/plain": [
       "Training Epoch 1:   0%|          | 0/5 [00:00<?, ?it/s]"
      ],
      "application/vnd.jupyter.widget-view+json": {
       "version_major": 2,
       "version_minor": 0,
       "model_id": "acd1f0d2e8cc46d1a26639bf0ef445b9"
      }
     },
     "metadata": {},
     "output_type": "display_data"
    },
    {
     "name": "stdout",
     "output_type": "stream",
     "text": [
      "Epoch 1/40, Loss: 6.7751\n"
     ]
    },
    {
     "data": {
      "text/plain": [
       "Training Epoch 2:   0%|          | 0/5 [00:00<?, ?it/s]"
      ],
      "application/vnd.jupyter.widget-view+json": {
       "version_major": 2,
       "version_minor": 0,
       "model_id": "398770e7e87f44debd0e66c22cb850b1"
      }
     },
     "metadata": {},
     "output_type": "display_data"
    },
    {
     "name": "stdout",
     "output_type": "stream",
     "text": [
      "Epoch 2/40, Loss: 6.5227\n"
     ]
    },
    {
     "data": {
      "text/plain": [
       "Training Epoch 3:   0%|          | 0/5 [00:00<?, ?it/s]"
      ],
      "application/vnd.jupyter.widget-view+json": {
       "version_major": 2,
       "version_minor": 0,
       "model_id": "05a2e3c9df4e4067998c17cb96396589"
      }
     },
     "metadata": {},
     "output_type": "display_data"
    },
    {
     "name": "stdout",
     "output_type": "stream",
     "text": [
      "Epoch 3/40, Loss: 6.3377\n"
     ]
    },
    {
     "data": {
      "text/plain": [
       "Training Epoch 4:   0%|          | 0/5 [00:00<?, ?it/s]"
      ],
      "application/vnd.jupyter.widget-view+json": {
       "version_major": 2,
       "version_minor": 0,
       "model_id": "c577921907a7411aa2e449f4dadb01a0"
      }
     },
     "metadata": {},
     "output_type": "display_data"
    },
    {
     "name": "stdout",
     "output_type": "stream",
     "text": [
      "Epoch 4/40, Loss: 6.1017\n"
     ]
    },
    {
     "data": {
      "text/plain": [
       "Training Epoch 5:   0%|          | 0/5 [00:00<?, ?it/s]"
      ],
      "application/vnd.jupyter.widget-view+json": {
       "version_major": 2,
       "version_minor": 0,
       "model_id": "36f6455ff5c94a6dadecf00cd693a55e"
      }
     },
     "metadata": {},
     "output_type": "display_data"
    },
    {
     "name": "stdout",
     "output_type": "stream",
     "text": [
      "Epoch 5/40, Loss: 5.9277\n"
     ]
    },
    {
     "data": {
      "text/plain": [
       "Training Epoch 6:   0%|          | 0/5 [00:00<?, ?it/s]"
      ],
      "application/vnd.jupyter.widget-view+json": {
       "version_major": 2,
       "version_minor": 0,
       "model_id": "65e5619ca68146b4834f7d35660ce77d"
      }
     },
     "metadata": {},
     "output_type": "display_data"
    },
    {
     "name": "stdout",
     "output_type": "stream",
     "text": [
      "Epoch 6/40, Loss: 5.7256\n"
     ]
    },
    {
     "data": {
      "text/plain": [
       "Training Epoch 7:   0%|          | 0/5 [00:00<?, ?it/s]"
      ],
      "application/vnd.jupyter.widget-view+json": {
       "version_major": 2,
       "version_minor": 0,
       "model_id": "9f1cfb51746b461faa2dde2a17a0dca0"
      }
     },
     "metadata": {},
     "output_type": "display_data"
    },
    {
     "name": "stdout",
     "output_type": "stream",
     "text": [
      "Epoch 7/40, Loss: 5.5507\n"
     ]
    },
    {
     "data": {
      "text/plain": [
       "Training Epoch 8:   0%|          | 0/5 [00:00<?, ?it/s]"
      ],
      "application/vnd.jupyter.widget-view+json": {
       "version_major": 2,
       "version_minor": 0,
       "model_id": "661c03265e4e4e6a9bedbe7ca729a1a5"
      }
     },
     "metadata": {},
     "output_type": "display_data"
    },
    {
     "name": "stdout",
     "output_type": "stream",
     "text": [
      "Epoch 8/40, Loss: 5.3563\n"
     ]
    },
    {
     "data": {
      "text/plain": [
       "Training Epoch 9:   0%|          | 0/5 [00:00<?, ?it/s]"
      ],
      "application/vnd.jupyter.widget-view+json": {
       "version_major": 2,
       "version_minor": 0,
       "model_id": "bf45ec92f4664d53a9fa91456f7bf7ca"
      }
     },
     "metadata": {},
     "output_type": "display_data"
    },
    {
     "name": "stdout",
     "output_type": "stream",
     "text": [
      "Epoch 9/40, Loss: 5.2367\n"
     ]
    },
    {
     "data": {
      "text/plain": [
       "Training Epoch 10:   0%|          | 0/5 [00:00<?, ?it/s]"
      ],
      "application/vnd.jupyter.widget-view+json": {
       "version_major": 2,
       "version_minor": 0,
       "model_id": "b68307eeb57946f9be6024324c4fad67"
      }
     },
     "metadata": {},
     "output_type": "display_data"
    },
    {
     "name": "stdout",
     "output_type": "stream",
     "text": [
      "Epoch 10/40, Loss: 5.0640\n"
     ]
    },
    {
     "data": {
      "text/plain": [
       "Training Epoch 11:   0%|          | 0/5 [00:00<?, ?it/s]"
      ],
      "application/vnd.jupyter.widget-view+json": {
       "version_major": 2,
       "version_minor": 0,
       "model_id": "cbd507aca7444f8abce7091c0a3a8f7a"
      }
     },
     "metadata": {},
     "output_type": "display_data"
    },
    {
     "name": "stdout",
     "output_type": "stream",
     "text": [
      "Epoch 11/40, Loss: 4.9215\n"
     ]
    },
    {
     "data": {
      "text/plain": [
       "Training Epoch 12:   0%|          | 0/5 [00:00<?, ?it/s]"
      ],
      "application/vnd.jupyter.widget-view+json": {
       "version_major": 2,
       "version_minor": 0,
       "model_id": "7a3e81a917d04d7d8a062b38cf2d6de8"
      }
     },
     "metadata": {},
     "output_type": "display_data"
    },
    {
     "name": "stdout",
     "output_type": "stream",
     "text": [
      "Epoch 12/40, Loss: 4.8093\n"
     ]
    },
    {
     "data": {
      "text/plain": [
       "Training Epoch 13:   0%|          | 0/5 [00:00<?, ?it/s]"
      ],
      "application/vnd.jupyter.widget-view+json": {
       "version_major": 2,
       "version_minor": 0,
       "model_id": "8a16b20d6d714ea1a49b9ce64298617c"
      }
     },
     "metadata": {},
     "output_type": "display_data"
    },
    {
     "name": "stdout",
     "output_type": "stream",
     "text": [
      "Epoch 13/40, Loss: 4.6914\n"
     ]
    },
    {
     "data": {
      "text/plain": [
       "Training Epoch 14:   0%|          | 0/5 [00:00<?, ?it/s]"
      ],
      "application/vnd.jupyter.widget-view+json": {
       "version_major": 2,
       "version_minor": 0,
       "model_id": "44d8ad01782145c3889cf944f7a17c3a"
      }
     },
     "metadata": {},
     "output_type": "display_data"
    },
    {
     "name": "stdout",
     "output_type": "stream",
     "text": [
      "Epoch 14/40, Loss: 4.5730\n"
     ]
    },
    {
     "data": {
      "text/plain": [
       "Training Epoch 15:   0%|          | 0/5 [00:00<?, ?it/s]"
      ],
      "application/vnd.jupyter.widget-view+json": {
       "version_major": 2,
       "version_minor": 0,
       "model_id": "0af8c120666443d3b8a01eaac71c16f8"
      }
     },
     "metadata": {},
     "output_type": "display_data"
    },
    {
     "name": "stdout",
     "output_type": "stream",
     "text": [
      "Epoch 15/40, Loss: 4.4638\n"
     ]
    },
    {
     "data": {
      "text/plain": [
       "Training Epoch 16:   0%|          | 0/5 [00:00<?, ?it/s]"
      ],
      "application/vnd.jupyter.widget-view+json": {
       "version_major": 2,
       "version_minor": 0,
       "model_id": "c8f95dfafdb541af82a469bc88030cc7"
      }
     },
     "metadata": {},
     "output_type": "display_data"
    },
    {
     "name": "stdout",
     "output_type": "stream",
     "text": [
      "Epoch 16/40, Loss: 4.3807\n"
     ]
    },
    {
     "data": {
      "text/plain": [
       "Training Epoch 17:   0%|          | 0/5 [00:00<?, ?it/s]"
      ],
      "application/vnd.jupyter.widget-view+json": {
       "version_major": 2,
       "version_minor": 0,
       "model_id": "8fb2c6ef38794c5893d7afd53ebbb713"
      }
     },
     "metadata": {},
     "output_type": "display_data"
    },
    {
     "name": "stdout",
     "output_type": "stream",
     "text": [
      "Epoch 17/40, Loss: 4.3087\n"
     ]
    },
    {
     "data": {
      "text/plain": [
       "Training Epoch 18:   0%|          | 0/5 [00:00<?, ?it/s]"
      ],
      "application/vnd.jupyter.widget-view+json": {
       "version_major": 2,
       "version_minor": 0,
       "model_id": "38b3035310ae4a9eb98c85598897a8f6"
      }
     },
     "metadata": {},
     "output_type": "display_data"
    },
    {
     "name": "stdout",
     "output_type": "stream",
     "text": [
      "Epoch 18/40, Loss: 4.2537\n"
     ]
    },
    {
     "data": {
      "text/plain": [
       "Training Epoch 19:   0%|          | 0/5 [00:00<?, ?it/s]"
      ],
      "application/vnd.jupyter.widget-view+json": {
       "version_major": 2,
       "version_minor": 0,
       "model_id": "9b594c9b6a6648ef9a32e0e5744a7751"
      }
     },
     "metadata": {},
     "output_type": "display_data"
    },
    {
     "name": "stdout",
     "output_type": "stream",
     "text": [
      "Epoch 19/40, Loss: 4.1802\n"
     ]
    },
    {
     "data": {
      "text/plain": [
       "Training Epoch 20:   0%|          | 0/5 [00:00<?, ?it/s]"
      ],
      "application/vnd.jupyter.widget-view+json": {
       "version_major": 2,
       "version_minor": 0,
       "model_id": "fd151a86a4fa4ca3a4b91e4fadd6c918"
      }
     },
     "metadata": {},
     "output_type": "display_data"
    },
    {
     "name": "stdout",
     "output_type": "stream",
     "text": [
      "Epoch 20/40, Loss: 4.1399\n"
     ]
    },
    {
     "data": {
      "text/plain": [
       "Training Epoch 21:   0%|          | 0/5 [00:00<?, ?it/s]"
      ],
      "application/vnd.jupyter.widget-view+json": {
       "version_major": 2,
       "version_minor": 0,
       "model_id": "dd7ef3e8580347f48a0fcbff8304a3f1"
      }
     },
     "metadata": {},
     "output_type": "display_data"
    },
    {
     "name": "stdout",
     "output_type": "stream",
     "text": [
      "Epoch 21/40, Loss: 4.1338\n"
     ]
    },
    {
     "data": {
      "text/plain": [
       "Training Epoch 22:   0%|          | 0/5 [00:00<?, ?it/s]"
      ],
      "application/vnd.jupyter.widget-view+json": {
       "version_major": 2,
       "version_minor": 0,
       "model_id": "8b8f2ef7f0cb452e92904b96a227b249"
      }
     },
     "metadata": {},
     "output_type": "display_data"
    },
    {
     "name": "stdout",
     "output_type": "stream",
     "text": [
      "Epoch 22/40, Loss: 4.0950\n"
     ]
    },
    {
     "data": {
      "text/plain": [
       "Training Epoch 23:   0%|          | 0/5 [00:00<?, ?it/s]"
      ],
      "application/vnd.jupyter.widget-view+json": {
       "version_major": 2,
       "version_minor": 0,
       "model_id": "ca85b0a15be9445e8106e2821cdb6dfa"
      }
     },
     "metadata": {},
     "output_type": "display_data"
    },
    {
     "name": "stdout",
     "output_type": "stream",
     "text": [
      "Epoch 23/40, Loss: 4.1181\n"
     ]
    },
    {
     "data": {
      "text/plain": [
       "Training Epoch 24:   0%|          | 0/5 [00:00<?, ?it/s]"
      ],
      "application/vnd.jupyter.widget-view+json": {
       "version_major": 2,
       "version_minor": 0,
       "model_id": "2498df50cb114a1da889fb39a3b9e5db"
      }
     },
     "metadata": {},
     "output_type": "display_data"
    },
    {
     "name": "stdout",
     "output_type": "stream",
     "text": [
      "Epoch 24/40, Loss: 4.0742\n"
     ]
    },
    {
     "data": {
      "text/plain": [
       "Training Epoch 25:   0%|          | 0/5 [00:00<?, ?it/s]"
      ],
      "application/vnd.jupyter.widget-view+json": {
       "version_major": 2,
       "version_minor": 0,
       "model_id": "538aae966fdd439790007114248f0f90"
      }
     },
     "metadata": {},
     "output_type": "display_data"
    },
    {
     "name": "stdout",
     "output_type": "stream",
     "text": [
      "Epoch 25/40, Loss: 4.0863\n"
     ]
    },
    {
     "data": {
      "text/plain": [
       "Training Epoch 26:   0%|          | 0/5 [00:00<?, ?it/s]"
      ],
      "application/vnd.jupyter.widget-view+json": {
       "version_major": 2,
       "version_minor": 0,
       "model_id": "bd237b3675b14c85993075cf6f5d0688"
      }
     },
     "metadata": {},
     "output_type": "display_data"
    },
    {
     "name": "stdout",
     "output_type": "stream",
     "text": [
      "Epoch 26/40, Loss: 4.1449\n"
     ]
    },
    {
     "data": {
      "text/plain": [
       "Training Epoch 27:   0%|          | 0/5 [00:00<?, ?it/s]"
      ],
      "application/vnd.jupyter.widget-view+json": {
       "version_major": 2,
       "version_minor": 0,
       "model_id": "3551a53baa824840ace8a5bf9d9b0121"
      }
     },
     "metadata": {},
     "output_type": "display_data"
    },
    {
     "name": "stdout",
     "output_type": "stream",
     "text": [
      "Epoch 27/40, Loss: 4.1869\n"
     ]
    },
    {
     "data": {
      "text/plain": [
       "Training Epoch 28:   0%|          | 0/5 [00:00<?, ?it/s]"
      ],
      "application/vnd.jupyter.widget-view+json": {
       "version_major": 2,
       "version_minor": 0,
       "model_id": "ecb5bd05905648d19ec61f91b83afc41"
      }
     },
     "metadata": {},
     "output_type": "display_data"
    },
    {
     "name": "stdout",
     "output_type": "stream",
     "text": [
      "Epoch 28/40, Loss: 4.2166\n"
     ]
    },
    {
     "data": {
      "text/plain": [
       "Training Epoch 29:   0%|          | 0/5 [00:00<?, ?it/s]"
      ],
      "application/vnd.jupyter.widget-view+json": {
       "version_major": 2,
       "version_minor": 0,
       "model_id": "d6c8c3de33aa45d89860c7c1184f3755"
      }
     },
     "metadata": {},
     "output_type": "display_data"
    },
    {
     "name": "stdout",
     "output_type": "stream",
     "text": [
      "Epoch 29/40, Loss: 4.2216\n",
      "Early stopping triggered.\n",
      "Generated samples shape: torch.Size([1, 1, 64, 265000])\n",
      "Sample saved to generated_sample.wav\n"
     ]
    },
    {
     "data": {
      "text/plain": [
       "<Figure size 1000x400 with 1 Axes>"
      ],
      "image/png": "[encoded data removed]"
     },
     "metadata": {},
     "output_type": "display_data"
    },
    {
     "data": {
      "text/plain": [
       "array([0.7233143 , 0.6991134 , 0.7314185 , ..., 0.8213267 , 0.8223463 ,\n",
       "       0.75318146], dtype=float32)"
      ]
     },
     "execution_count": 6,
     "metadata": {},
     "output_type": "execute_result"
    }
   ],
   "execution_count": 6
  },
  {
   "metadata": {},
   "cell_type": "code",
   "outputs": [],
   "execution_count": null,
   "source": "",
   "id": "54ca44419c03ac1e"
  }
 ],
 "metadata": {
  "kernelspec": {
   "display_name": "Python 3",
   "language": "python",
   "name": "python3"
  },
  "language_info": {
   "codemirror_mode": {
    "name": "ipython",
    "version": 2
   },
   "file_extension": ".py",
   "mimetype": "text/x-python",
   "name": "python",
   "nbconvert_exporter": "python",
   "pygments_lexer": "ipython2",
   "version": "2.7.6"
  }
 },
 "nbformat": 4,
 "nbformat_minor": 5
}
