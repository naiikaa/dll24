{
 "cells": [
  {
   "cell_type": "code",
   "execution_count": 7,
   "metadata": {},
   "outputs": [],
   "source": [
    "import sys\n",
    "#sys.path.append('/home/npopkov/dll24')\n",
    "import os\n",
    "import h5py\n",
    "import numpy as np\n",
    "import matplotlib.pyplot as plt\n",
    "from torch.utils.data import Dataset, DataLoader\n",
    "import torch\n",
    "torch.set_float32_matmul_precision('medium')\n",
    "\n",
    "from denoising_diffusion_pytorch import Unet, GaussianDiffusion\n",
    "\n",
    "import lightning as lt\n",
    "\n",
    "import tables\n",
    "tables.file._open_files.close_all()\n",
    "\n",
    "class LatentDataset(Dataset):\n",
    "    def __init__(self, h5_file):\n",
    "        self.shape = np.array(h5_file[list(h5_file.keys())[0]]).shape\n",
    "        self.data = self.createData(h5_file)\n",
    "        self.min = self.data.min()\n",
    "        self.max = self.data.max()\n",
    "        self.std = self.data.std()\n",
    "        self.mean = self.data.mean()\n",
    "        self.transform('normalize')\n",
    "\n",
    "\n",
    "    def createData(self, h5_file):\n",
    "        data = []\n",
    "        for key in h5_file.keys():\n",
    "        \n",
    "            sample = np.array(h5_file[key])\n",
    "\n",
    "            data.append(np.array(sample))\n",
    "        \n",
    "        return torch.tensor(np.array(data)).float()\n",
    "\n",
    "    def __len__(self):\n",
    "        return len(self.data)\n",
    "\n",
    "    def __getitem__(self, idx):\n",
    "        return self.data[idx]\n",
    "    \n",
    "    def transform(self, type: str = 'normalize'):\n",
    "        if type == 'standardize':\n",
    "            self.data = (self.data - self.mean) / self.std\n",
    "        elif type == 'normalize':\n",
    "            self.data = (self.data - self.min) / (self.max - self.min)\n",
    "        else:\n",
    "            raise ValueError('Unknown transformation type')\n",
    "        \n",
    "    def inverse_transform(self, data):\n",
    "\n",
    "        return data * (self.max - self.min) + self.min\n",
    "    \n",
    "    def unflatten(self, data):\n",
    "        return data.reshape(self.shape)\n",
    "    \n",
    "\n",
    "hdf = h5py.File('256encodesamp.hdf5', 'r',)\n",
    "dataset = LatentDataset(hdf)\n",
    "hdf.close()\n",
    "\n"
   ]
  },
  {
   "cell_type": "code",
   "execution_count": 8,
   "metadata": {},
   "outputs": [],
   "source": [
    "\n",
    "model = Unet(\n",
    "    dim = 64,\n",
    "    channels = 1,\n",
    "    dim_mults = (1, 2, 4),\n",
    "    flash_attn = False,\n",
    ")\n",
    "\n",
    "\n",
    "\n",
    "model.load_state_dict(torch.load('model.pt'))\n",
    "\n",
    "diffusion = GaussianDiffusion(\n",
    "    model,\n",
    "    image_size = 256,\n",
    "    timesteps = 1000,\n",
    "        # number of steps\n",
    ")"
   ]
  },
  {
   "cell_type": "code",
   "execution_count": 9,
   "metadata": {},
   "outputs": [
    {
     "data": {
      "text/plain": [
       "device(type='cuda', index=0)"
      ]
     },
     "execution_count": 9,
     "metadata": {},
     "output_type": "execute_result"
    }
   ],
   "source": [
    "diffusion.to('cuda')\n",
    "diffusion.device"
   ]
  },
  {
   "cell_type": "code",
   "execution_count": 10,
   "metadata": {},
   "outputs": [
    {
     "name": "stderr",
     "output_type": "stream",
     "text": [
      "sampling loop time step: 100%|██████████| 1000/1000 [01:34<00:00, 10.63it/s]\n"
     ]
    }
   ],
   "source": [
    "diffusion.eval()\n",
    "sample = diffusion.sample(batch_size=6)"
   ]
  },
  {
   "cell_type": "code",
   "execution_count": null,
   "metadata": {},
   "outputs": [],
   "source": []
  },
  {
   "cell_type": "code",
   "execution_count": 11,
   "metadata": {},
   "outputs": [],
   "source": [
    "torch.save(dataset.inverse_transform(sample.data), 'sample.pt')"
   ]
  }
 ],
 "metadata": {
  "kernelspec": {
   "display_name": "Python 3",
   "language": "python",
   "name": "python3"
  },
  "language_info": {
   "codemirror_mode": {
    "name": "ipython",
    "version": 3
   },
   "file_extension": ".py",
   "mimetype": "text/x-python",
   "name": "python",
   "nbconvert_exporter": "python",
   "pygments_lexer": "ipython3",
   "version": "3.9.19"
  }
 },
 "nbformat": 4,
 "nbformat_minor": 2
}
