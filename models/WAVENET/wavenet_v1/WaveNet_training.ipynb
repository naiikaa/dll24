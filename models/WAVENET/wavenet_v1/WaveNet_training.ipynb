{
 "cells": [
  {
   "cell_type": "code",
   "metadata": {
    "collapsed": true,
    "ExecuteTime": {
     "end_time": "2024-09-05T21:42:20.036706Z",
     "start_time": "2024-09-05T20:59:26.640708Z"
    }
   },
   "source": [
    "\n",
    "from models.WAVENET.wavenet_v1.wavenet_training import generate_audio, WavenetTrainer\n",
    "from safetensors import torch\n",
    "from models.WAVENET.wavenet_v1.audio_data import WavenetDataset\n",
    "from models.WAVENET.wavenet_v1.wavenet_model import WaveNetModel, load_latest_model_from\n",
    "import tensorflow as tf\n",
    "\n",
    "# modified WAVENET file implementation from: https://github.com/Vichoko/pytorch-wavenet/tree/master\n",
    "\n",
    "dtype = torch.FloatTensor  # data type\n",
    "ltype = torch.LongTensor  # label type\n",
    "\n",
    "use_cuda = torch.cuda.is_available()\n",
    "if use_cuda:\n",
    "    print('use gpu')\n",
    "    dtype = torch.cuda.FloatTensor\n",
    "    ltype = torch.cuda.LongTensor\n",
    "\n",
    "model = WaveNetModel(layers=10,\n",
    "                     blocks=3,\n",
    "                     dilation_channels=32,\n",
    "                     residual_channels=32,\n",
    "                     skip_channels=1024,\n",
    "                     end_channels=512,\n",
    "                     output_length=16,\n",
    "                     dtype=dtype,\n",
    "                     bias=True)\n",
    "model.cuda()\n",
    "print('model: ', model)\n",
    "print('receptive field: ', model.receptive_field)\n",
    "print('parameter count: ', model.parameter_count())\n",
    "\n",
    "data = WavenetDataset(dataset_file='./example.npz',\n",
    "                      item_length=model.receptive_field + model.output_length - 1,\n",
    "                      target_length=model.output_length,\n",
    "                      file_location='../unpacked_data',\n",
    "                      test_stride=500)\n",
    "print('the dataset has ' + str(len(data)) + ' items')\n",
    "\n",
    "\n",
    "def generate_and_log_samples(step):\n",
    "    sample_length = 32000\n",
    "    gen_model = load_latest_model_from('snapshots', use_cuda=False)\n",
    "    print(\"start generating...\")\n",
    "    samples = generate_audio(gen_model,\n",
    "                             length=sample_length,\n",
    "                             temperatures=[0.5])\n",
    "    tf_samples = tf.convert_to_tensor(samples, dtype=tf.float32)\n",
    "    # logger.audio_summary('temperature_0.5', tf_samples, step, sr=16000)\n",
    "\n",
    "    samples = generate_audio(gen_model,\n",
    "                             length=sample_length,\n",
    "                             temperatures=[1.])\n",
    "    tf_samples = tf.convert_to_tensor(samples, dtype=tf.float32)\n",
    "    # logger.audio_summary('temperature_1.0', tf_samples, step, sr=16000)\n",
    "    print(\"audio clips generated\")\n",
    "\n",
    "\n",
    "trainer = WavenetTrainer(model=model,\n",
    "                         dataset=data,\n",
    "                         lr=0.001,\n",
    "                         snapshot_path='snapshots',\n",
    "                         snapshot_name='birdset_model',\n",
    "                         snapshot_interval=1000,\n",
    "                         dtype=dtype,\n",
    "                         ltype=ltype)\n",
    "\n",
    "start_data = data[250000][0]\n",
    "display(data)\n",
    "trainer.train(batch_size=16,\n",
    "              epochs=12)"
   ],
   "outputs": [
    {
     "name": "stdout",
     "output_type": "stream",
     "text": [
      "use gpu\n",
      "model:  WaveNetModel(\n",
      "  (filter_convs): ModuleList(\n",
      "    (0-29): 30 x Conv1d(32, 32, kernel_size=(2,), stride=(1,))\n",
      "  )\n",
      "  (gate_convs): ModuleList(\n",
      "    (0-29): 30 x Conv1d(32, 32, kernel_size=(2,), stride=(1,))\n",
      "  )\n",
      "  (residual_convs): ModuleList(\n",
      "    (0-29): 30 x Conv1d(32, 32, kernel_size=(1,), stride=(1,))\n",
      "  )\n",
      "  (skip_convs): ModuleList(\n",
      "    (0-29): 30 x Conv1d(32, 1024, kernel_size=(1,), stride=(1,))\n",
      "  )\n",
      "  (start_conv): Conv1d(256, 32, kernel_size=(1,), stride=(1,))\n",
      "  (end_conv_1): Conv1d(1024, 512, kernel_size=(1,), stride=(1,))\n",
      "  (end_conv_2): Conv1d(512, 256, kernel_size=(1,), stride=(1,))\n",
      ")\n",
      "receptive field:  3070\n",
      "parameter count:  1834592\n",
      "one hot input\n",
      "the dataset has 255490 items\n",
      "start training...\n"
     ]
    },
    {
     "data": {
      "text/plain": [
       "<audio_data.WavenetDataset at 0x1abdc6542d0>"
      ]
     },
     "metadata": {},
     "output_type": "display_data"
    },
    {
     "name": "stdout",
     "output_type": "stream",
     "text": [
      "epoch 0\n",
      "loss at step 50: 4.003303761482239\n",
      "one training step does take approximately 0.2564183950424194 seconds)\n",
      "loss at step 100: 3.17235077381134\n",
      "loss at step 150: 3.122062883377075\n",
      "loss at step 200: 3.1990980386734007\n"
     ]
    },
    {
     "name": "stderr",
     "output_type": "stream",
     "text": [
      "100%|██████████| 32/32 [00:02<00:00, 10.73it/s]\n"
     ]
    },
    {
     "name": "stdout",
     "output_type": "stream",
     "text": [
      "validation loss: 2.68060103058815\n",
      "validation accuracy: 20.2392578125%\n",
      "loss at step 250: 3.056705141067505\n",
      "loss at step 300: 2.9848251390457152\n",
      "loss at step 350: 2.883783016204834\n",
      "loss at step 400: 2.9968074655532835\n"
     ]
    },
    {
     "name": "stderr",
     "output_type": "stream",
     "text": [
      "100%|██████████| 32/32 [00:02<00:00, 10.94it/s]\n"
     ]
    },
    {
     "name": "stdout",
     "output_type": "stream",
     "text": [
      "validation loss: 2.5347808115184307\n",
      "validation accuracy: 23.6083984375%\n",
      "loss at step 450: 2.9816877841949463\n",
      "loss at step 500: 2.7024767446517943\n",
      "loss at step 550: 2.6369041442871093\n",
      "loss at step 600: 2.561952242851257\n"
     ]
    },
    {
     "name": "stderr",
     "output_type": "stream",
     "text": [
      "100%|██████████| 32/32 [00:02<00:00, 10.84it/s]\n"
     ]
    },
    {
     "name": "stdout",
     "output_type": "stream",
     "text": [
      "validation loss: 2.2553861029446125\n",
      "validation accuracy: 28.9306640625%\n",
      "loss at step 650: 2.667593116760254\n",
      "loss at step 700: 2.6250334119796754\n",
      "loss at step 750: 2.5522208881378172\n",
      "loss at step 800: 2.518535180091858\n"
     ]
    },
    {
     "name": "stderr",
     "output_type": "stream",
     "text": [
      "100%|██████████| 32/32 [00:03<00:00, 10.65it/s]\n"
     ]
    },
    {
     "name": "stdout",
     "output_type": "stream",
     "text": [
      "validation loss: 2.1644764691591263\n",
      "validation accuracy: 29.7119140625%\n",
      "loss at step 850: 2.4818655228614808\n",
      "loss at step 900: 2.3894595432281496\n",
      "loss at step 950: 2.4699355220794676\n",
      "loss at step 1000: 2.3447110867500305\n"
     ]
    },
    {
     "name": "stderr",
     "output_type": "stream",
     "text": [
      "100%|██████████| 32/32 [00:03<00:00, 10.64it/s]\n"
     ]
    },
    {
     "name": "stdout",
     "output_type": "stream",
     "text": [
      "validation loss: 2.0521650724112988\n",
      "validation accuracy: 31.06689453125%\n",
      "loss at step 1050: 2.3461958932876588\n",
      "loss at step 1100: 2.3993005299568178\n",
      "loss at step 1150: 2.385872085094452\n",
      "loss at step 1200: 2.299815812110901\n"
     ]
    },
    {
     "name": "stderr",
     "output_type": "stream",
     "text": [
      "100%|██████████| 32/32 [00:02<00:00, 10.88it/s]\n"
     ]
    },
    {
     "name": "stdout",
     "output_type": "stream",
     "text": [
      "validation loss: 1.9788086414337158\n",
      "validation accuracy: 32.7880859375%\n",
      "loss at step 1250: 2.3319837641716004\n",
      "loss at step 1300: 2.343190920352936\n",
      "loss at step 1350: 2.354561774730682\n",
      "loss at step 1400: 2.338815813064575\n"
     ]
    },
    {
     "name": "stderr",
     "output_type": "stream",
     "text": [
      "100%|██████████| 32/32 [00:02<00:00, 10.84it/s]\n"
     ]
    },
    {
     "name": "stdout",
     "output_type": "stream",
     "text": [
      "validation loss: 1.9704119563102722\n",
      "validation accuracy: 33.203125%\n",
      "loss at step 1450: 2.306089787483215\n",
      "loss at step 1500: 2.4071853876113893\n",
      "loss at step 1550: 2.2570983457565306\n",
      "loss at step 1600: 2.3501757526397706\n"
     ]
    },
    {
     "name": "stderr",
     "output_type": "stream",
     "text": [
      "100%|██████████| 32/32 [00:02<00:00, 11.03it/s]\n"
     ]
    },
    {
     "name": "stdout",
     "output_type": "stream",
     "text": [
      "validation loss: 1.948568519204855\n",
      "validation accuracy: 32.5927734375%\n",
      "loss at step 1650: 2.2863951349258422\n",
      "loss at step 1700: 2.29395361661911\n",
      "loss at step 1750: 2.2980816650390623\n",
      "loss at step 1800: 2.225964250564575\n"
     ]
    },
    {
     "name": "stderr",
     "output_type": "stream",
     "text": [
      "100%|██████████| 32/32 [00:02<00:00, 10.84it/s]\n"
     ]
    },
    {
     "name": "stdout",
     "output_type": "stream",
     "text": [
      "validation loss: 1.911602895706892\n",
      "validation accuracy: 34.46044921875%\n",
      "loss at step 1850: 2.2462178683280944\n",
      "loss at step 1900: 2.2050483798980713\n",
      "loss at step 1950: 2.274432137012482\n",
      "loss at step 2000: 2.233248646259308\n"
     ]
    },
    {
     "name": "stderr",
     "output_type": "stream",
     "text": [
      "100%|██████████| 32/32 [00:02<00:00, 10.93it/s]\n"
     ]
    },
    {
     "name": "stdout",
     "output_type": "stream",
     "text": [
      "validation loss: 1.8863034956157207\n",
      "validation accuracy: 34.11865234375%\n",
      "loss at step 2050: 2.240848572254181\n",
      "loss at step 2100: 2.20605482339859\n",
      "loss at step 2150: 2.1702775979042053\n",
      "loss at step 2200: 2.330989754199982\n"
     ]
    },
    {
     "name": "stderr",
     "output_type": "stream",
     "text": [
      "100%|██████████| 32/32 [00:02<00:00, 10.97it/s]\n"
     ]
    },
    {
     "name": "stdout",
     "output_type": "stream",
     "text": [
      "validation loss: 1.895939439535141\n",
      "validation accuracy: 34.5947265625%\n",
      "loss at step 2250: 2.245310831069946\n",
      "loss at step 2300: 2.296190061569214\n",
      "loss at step 2350: 2.30474228143692\n",
      "loss at step 2400: 2.2152951908111573\n"
     ]
    },
    {
     "name": "stderr",
     "output_type": "stream",
     "text": [
      "100%|██████████| 32/32 [00:02<00:00, 10.86it/s]\n"
     ]
    },
    {
     "name": "stdout",
     "output_type": "stream",
     "text": [
      "validation loss: 1.904658231884241\n",
      "validation accuracy: 33.8623046875%\n",
      "loss at step 2450: 2.251043429374695\n",
      "loss at step 2500: 2.193372700214386\n",
      "loss at step 2550: 2.196246702671051\n",
      "loss at step 2600: 2.252015283107758\n"
     ]
    },
    {
     "name": "stderr",
     "output_type": "stream",
     "text": [
      "100%|██████████| 32/32 [00:02<00:00, 10.97it/s]\n"
     ]
    },
    {
     "name": "stdout",
     "output_type": "stream",
     "text": [
      "validation loss: 1.889542255550623\n",
      "validation accuracy: 33.69140625%\n",
      "loss at step 2650: 2.1721480894088745\n",
      "loss at step 2700: 2.196977105140686\n",
      "loss at step 2750: 2.245991811752319\n",
      "loss at step 2800: 2.2117829728126526\n"
     ]
    },
    {
     "name": "stderr",
     "output_type": "stream",
     "text": [
      "100%|██████████| 32/32 [00:02<00:00, 10.95it/s]\n"
     ]
    },
    {
     "name": "stdout",
     "output_type": "stream",
     "text": [
      "validation loss: 1.862830314785242\n",
      "validation accuracy: 35.4736328125%\n",
      "loss at step 2850: 2.2048026299476624\n",
      "loss at step 2900: 2.259955871105194\n",
      "loss at step 2950: 2.2767953205108644\n",
      "loss at step 3000: 2.213124165534973\n"
     ]
    },
    {
     "name": "stderr",
     "output_type": "stream",
     "text": [
      "100%|██████████| 32/32 [00:02<00:00, 10.89it/s]\n"
     ]
    },
    {
     "name": "stdout",
     "output_type": "stream",
     "text": [
      "validation loss: 1.8657510839402676\n",
      "validation accuracy: 34.97314453125%\n",
      "loss at step 3050: 2.233362600803375\n",
      "loss at step 3100: 2.2708731722831725\n",
      "loss at step 3150: 2.2551782941818237\n",
      "loss at step 3200: 2.2770800161361695\n"
     ]
    },
    {
     "name": "stderr",
     "output_type": "stream",
     "text": [
      "100%|██████████| 32/32 [00:03<00:00, 10.51it/s]\n"
     ]
    },
    {
     "name": "stdout",
     "output_type": "stream",
     "text": [
      "validation loss: 1.8434064015746117\n",
      "validation accuracy: 35.7421875%\n",
      "loss at step 3250: 2.2411942076683045\n",
      "loss at step 3300: 2.170863084793091\n",
      "loss at step 3350: 2.137935893535614\n",
      "loss at step 3400: 2.1998226928710936\n"
     ]
    },
    {
     "name": "stderr",
     "output_type": "stream",
     "text": [
      "100%|██████████| 32/32 [00:02<00:00, 10.93it/s]\n"
     ]
    },
    {
     "name": "stdout",
     "output_type": "stream",
     "text": [
      "validation loss: 1.8692993074655533\n",
      "validation accuracy: 34.765625%\n",
      "loss at step 3450: 2.149662711620331\n",
      "loss at step 3500: 2.1991938757896423\n",
      "loss at step 3550: 2.2115960836410524\n",
      "loss at step 3600: 2.2119243288040162\n"
     ]
    },
    {
     "name": "stderr",
     "output_type": "stream",
     "text": [
      "100%|██████████| 32/32 [00:02<00:00, 10.84it/s]\n"
     ]
    },
    {
     "name": "stdout",
     "output_type": "stream",
     "text": [
      "validation loss: 1.8473293669521809\n",
      "validation accuracy: 35.41259765625%\n",
      "loss at step 3650: 2.1984219765663147\n",
      "loss at step 3700: 2.2338526034355164\n",
      "loss at step 3750: 2.1555791163444518\n",
      "loss at step 3800: 2.218813989162445\n"
     ]
    },
    {
     "name": "stderr",
     "output_type": "stream",
     "text": [
      "100%|██████████| 32/32 [00:02<00:00, 10.89it/s]\n"
     ]
    },
    {
     "name": "stdout",
     "output_type": "stream",
     "text": [
      "validation loss: 1.8260559365153313\n",
      "validation accuracy: 35.6201171875%\n",
      "loss at step 3850: 2.22371280670166\n",
      "loss at step 3900: 2.170864789485931\n",
      "loss at step 3950: 2.1177186036109923\n",
      "loss at step 4000: 2.1874665093421934\n"
     ]
    },
    {
     "name": "stderr",
     "output_type": "stream",
     "text": [
      "100%|██████████| 32/32 [00:02<00:00, 10.82it/s]\n"
     ]
    },
    {
     "name": "stdout",
     "output_type": "stream",
     "text": [
      "validation loss: 1.8406949862837791\n",
      "validation accuracy: 35.5712890625%\n",
      "loss at step 4050: 2.19281329870224\n",
      "loss at step 4100: 2.257584426403046\n",
      "loss at step 4150: 2.195015525817871\n",
      "loss at step 4200: 2.208439621925354\n"
     ]
    },
    {
     "name": "stderr",
     "output_type": "stream",
     "text": [
      "100%|██████████| 32/32 [00:02<00:00, 10.95it/s]\n"
     ]
    },
    {
     "name": "stdout",
     "output_type": "stream",
     "text": [
      "validation loss: 1.8868031799793243\n",
      "validation accuracy: 33.3251953125%\n",
      "loss at step 4250: 2.2077652287483214\n",
      "loss at step 4300: 2.115995399951935\n",
      "loss at step 4350: 2.2108562755584718\n",
      "loss at step 4400: 2.2333449649810793\n"
     ]
    },
    {
     "name": "stderr",
     "output_type": "stream",
     "text": [
      "100%|██████████| 32/32 [00:02<00:00, 10.96it/s]\n"
     ]
    },
    {
     "name": "stdout",
     "output_type": "stream",
     "text": [
      "validation loss: 1.848360724747181\n",
      "validation accuracy: 35.1806640625%\n",
      "loss at step 4450: 2.2453002524375916\n",
      "loss at step 4500: 2.186497552394867\n",
      "loss at step 4550: 2.1627466750144957\n",
      "loss at step 4600: 2.18040607213974\n"
     ]
    },
    {
     "name": "stderr",
     "output_type": "stream",
     "text": [
      "100%|██████████| 32/32 [00:02<00:00, 10.96it/s]\n"
     ]
    },
    {
     "name": "stdout",
     "output_type": "stream",
     "text": [
      "validation loss: 1.818458680063486\n",
      "validation accuracy: 35.9375%\n",
      "loss at step 4650: 2.228012819290161\n",
      "loss at step 4700: 2.1051745128631594\n",
      "loss at step 4750: 2.2310316300392152\n",
      "loss at step 4800: 2.1123380517959593\n"
     ]
    },
    {
     "name": "stderr",
     "output_type": "stream",
     "text": [
      "100%|██████████| 32/32 [00:02<00:00, 10.93it/s]\n"
     ]
    },
    {
     "name": "stdout",
     "output_type": "stream",
     "text": [
      "validation loss: 1.8222182095050812\n",
      "validation accuracy: 36.1572265625%\n",
      "loss at step 4850: 2.2041117405891417\n",
      "loss at step 4900: 2.231197829246521\n",
      "loss at step 4950: 2.126080870628357\n",
      "loss at step 5000: 2.2354145216941834\n"
     ]
    },
    {
     "name": "stderr",
     "output_type": "stream",
     "text": [
      "100%|██████████| 32/32 [00:03<00:00, 10.45it/s]\n"
     ]
    },
    {
     "name": "stdout",
     "output_type": "stream",
     "text": [
      "validation loss: 1.808344617486\n",
      "validation accuracy: 36.46240234375%\n",
      "loss at step 5050: 2.128793613910675\n",
      "loss at step 5100: 2.111220064163208\n",
      "loss at step 5150: 2.175026159286499\n",
      "loss at step 5200: 2.1888611459732057\n"
     ]
    },
    {
     "name": "stderr",
     "output_type": "stream",
     "text": [
      "100%|██████████| 32/32 [00:02<00:00, 10.90it/s]\n"
     ]
    },
    {
     "name": "stdout",
     "output_type": "stream",
     "text": [
      "validation loss: 1.8083001375198364\n",
      "validation accuracy: 36.21826171875%\n",
      "loss at step 5250: 2.131729016304016\n",
      "loss at step 5300: 2.2021947860717774\n",
      "loss at step 5350: 2.11373996257782\n",
      "loss at step 5400: 2.2044270706176756\n"
     ]
    },
    {
     "name": "stderr",
     "output_type": "stream",
     "text": [
      "100%|██████████| 32/32 [00:02<00:00, 11.00it/s]\n"
     ]
    },
    {
     "name": "stdout",
     "output_type": "stream",
     "text": [
      "validation loss: 1.8359516151249409\n",
      "validation accuracy: 35.09521484375%\n",
      "loss at step 5450: 2.157803859710693\n",
      "loss at step 5500: 2.094798765182495\n",
      "loss at step 5550: 2.148282861709595\n",
      "loss at step 5600: 2.1233441185951234\n"
     ]
    },
    {
     "name": "stderr",
     "output_type": "stream",
     "text": [
      "100%|██████████| 32/32 [00:02<00:00, 11.02it/s]\n"
     ]
    },
    {
     "name": "stdout",
     "output_type": "stream",
     "text": [
      "validation loss: 1.8194425106048584\n",
      "validation accuracy: 35.94970703125%\n",
      "loss at step 5650: 2.179317100048065\n",
      "loss at step 5700: 2.2135221362113953\n",
      "loss at step 5750: 2.1237929034233094\n",
      "loss at step 5800: 2.0585733437538147\n"
     ]
    },
    {
     "name": "stderr",
     "output_type": "stream",
     "text": [
      "100%|██████████| 32/32 [00:02<00:00, 11.00it/s]\n"
     ]
    },
    {
     "name": "stdout",
     "output_type": "stream",
     "text": [
      "validation loss: 1.8182228319346905\n",
      "validation accuracy: 35.80322265625%\n",
      "loss at step 5850: 2.186076986789703\n",
      "loss at step 5900: 2.110675039291382\n",
      "loss at step 5950: 2.179688696861267\n",
      "loss at step 6000: 2.1197976064682007\n"
     ]
    },
    {
     "name": "stderr",
     "output_type": "stream",
     "text": [
      "100%|██████████| 32/32 [00:02<00:00, 11.02it/s]\n"
     ]
    },
    {
     "name": "stdout",
     "output_type": "stream",
     "text": [
      "validation loss: 1.8013546168804169\n",
      "validation accuracy: 36.36474609375%\n",
      "loss at step 6050: 2.1196470856666565\n",
      "loss at step 6100: 2.194414567947388\n",
      "loss at step 6150: 2.0871270847320558\n",
      "loss at step 6200: 2.1260515952110293\n"
     ]
    },
    {
     "name": "stderr",
     "output_type": "stream",
     "text": [
      "100%|██████████| 32/32 [00:02<00:00, 10.99it/s]\n"
     ]
    },
    {
     "name": "stdout",
     "output_type": "stream",
     "text": [
      "validation loss: 1.8133989796042442\n",
      "validation accuracy: 35.9130859375%\n",
      "loss at step 6250: 2.0966803860664367\n",
      "loss at step 6300: 2.223388433456421\n",
      "loss at step 6350: 2.1731936526298523\n",
      "loss at step 6400: 2.1702924466133116\n"
     ]
    },
    {
     "name": "stderr",
     "output_type": "stream",
     "text": [
      "100%|██████████| 32/32 [00:02<00:00, 10.93it/s]\n"
     ]
    },
    {
     "name": "stdout",
     "output_type": "stream",
     "text": [
      "validation loss: 1.8038352131843567\n",
      "validation accuracy: 36.03515625%\n",
      "loss at step 6450: 2.1525226616859436\n",
      "loss at step 6500: 2.161122477054596\n",
      "loss at step 6550: 2.2170011806488037\n",
      "loss at step 6600: 2.1465731143951414\n"
     ]
    },
    {
     "name": "stderr",
     "output_type": "stream",
     "text": [
      "100%|██████████| 32/32 [00:02<00:00, 10.84it/s]\n"
     ]
    },
    {
     "name": "stdout",
     "output_type": "stream",
     "text": [
      "validation loss: 1.820192288607359\n",
      "validation accuracy: 36.474609375%\n",
      "loss at step 6650: 2.1856304383277894\n",
      "loss at step 6700: 2.2025769686698915\n",
      "loss at step 6750: 2.163448386192322\n",
      "loss at step 6800: 2.1714552521705626\n"
     ]
    },
    {
     "name": "stderr",
     "output_type": "stream",
     "text": [
      "100%|██████████| 32/32 [00:02<00:00, 11.02it/s]\n"
     ]
    },
    {
     "name": "stdout",
     "output_type": "stream",
     "text": [
      "validation loss: 1.8136172071099281\n",
      "validation accuracy: 35.6689453125%\n",
      "loss at step 6850: 2.1932574129104614\n",
      "loss at step 6900: 2.2048912620544434\n",
      "loss at step 6950: 2.099041244983673\n",
      "loss at step 7000: 2.1515074825286864\n"
     ]
    },
    {
     "name": "stderr",
     "output_type": "stream",
     "text": [
      "100%|██████████| 32/32 [00:02<00:00, 10.81it/s]\n"
     ]
    },
    {
     "name": "stdout",
     "output_type": "stream",
     "text": [
      "validation loss: 1.821145884692669\n",
      "validation accuracy: 35.6689453125%\n",
      "loss at step 7050: 2.134585528373718\n",
      "loss at step 7100: 2.1827123975753784\n",
      "loss at step 7150: 2.115551266670227\n",
      "loss at step 7200: 2.0582373189926146\n"
     ]
    },
    {
     "name": "stderr",
     "output_type": "stream",
     "text": [
      "100%|██████████| 32/32 [00:02<00:00, 10.96it/s]\n"
     ]
    },
    {
     "name": "stdout",
     "output_type": "stream",
     "text": [
      "validation loss: 1.8199075870215893\n",
      "validation accuracy: 36.09619140625%\n",
      "loss at step 7250: 2.1502810430526735\n",
      "loss at step 7300: 2.1253521966934206\n",
      "loss at step 7350: 2.1854027485847474\n",
      "loss at step 7400: 2.087223174571991\n"
     ]
    },
    {
     "name": "stderr",
     "output_type": "stream",
     "text": [
      "100%|██████████| 32/32 [00:02<00:00, 10.79it/s]\n"
     ]
    },
    {
     "name": "stdout",
     "output_type": "stream",
     "text": [
      "validation loss: 1.8098802044987679\n",
      "validation accuracy: 35.75439453125%\n",
      "loss at step 7450: 2.103738327026367\n",
      "loss at step 7500: 2.135127522945404\n",
      "loss at step 7550: 2.1118759059906007\n",
      "loss at step 7600: 2.1430595922470093\n"
     ]
    },
    {
     "name": "stderr",
     "output_type": "stream",
     "text": [
      "100%|██████████| 32/32 [00:02<00:00, 10.93it/s]\n"
     ]
    },
    {
     "name": "stdout",
     "output_type": "stream",
     "text": [
      "validation loss: 1.8014345318078995\n",
      "validation accuracy: 37.02392578125%\n",
      "loss at step 7650: 2.0886248922348023\n",
      "loss at step 7700: 2.121959753036499\n",
      "loss at step 7750: 2.1757443714141846\n",
      "loss at step 7800: 2.1833918142318725\n"
     ]
    },
    {
     "name": "stderr",
     "output_type": "stream",
     "text": [
      "100%|██████████| 32/32 [00:03<00:00, 10.52it/s]\n"
     ]
    },
    {
     "name": "stdout",
     "output_type": "stream",
     "text": [
      "validation loss: 1.857930961996317\n",
      "validation accuracy: 35.3759765625%\n",
      "loss at step 7850: 2.101304681301117\n",
      "loss at step 7900: 2.2043867897987366\n",
      "loss at step 7950: 2.0913902831077578\n",
      "loss at step 8000: 2.114764218330383\n"
     ]
    },
    {
     "name": "stderr",
     "output_type": "stream",
     "text": [
      "100%|██████████| 32/32 [00:02<00:00, 10.86it/s]\n"
     ]
    },
    {
     "name": "stdout",
     "output_type": "stream",
     "text": [
      "validation loss: 1.780763953924179\n",
      "validation accuracy: 37.21923828125%\n",
      "loss at step 8050: 2.1116508078575134\n",
      "loss at step 8100: 2.184465310573578\n",
      "loss at step 8150: 2.145395510196686\n",
      "loss at step 8200: 2.115126848220825\n"
     ]
    },
    {
     "name": "stderr",
     "output_type": "stream",
     "text": [
      "100%|██████████| 32/32 [00:03<00:00, 10.40it/s]\n"
     ]
    },
    {
     "name": "stdout",
     "output_type": "stream",
     "text": [
      "validation loss: 1.7925753220915794\n",
      "validation accuracy: 36.6455078125%\n",
      "loss at step 8250: 2.090951557159424\n",
      "loss at step 8300: 2.105887713432312\n",
      "loss at step 8350: 2.1078706860542296\n",
      "loss at step 8400: 2.1019226145744323\n"
     ]
    },
    {
     "name": "stderr",
     "output_type": "stream",
     "text": [
      "100%|██████████| 32/32 [00:02<00:00, 10.72it/s]\n"
     ]
    },
    {
     "name": "stdout",
     "output_type": "stream",
     "text": [
      "validation loss: 1.79171771556139\n",
      "validation accuracy: 36.75537109375%\n",
      "loss at step 8450: 2.1482628083229063\n",
      "loss at step 8500: 2.105095474720001\n",
      "loss at step 8550: 2.0653357434272768\n",
      "loss at step 8600: 2.1338274335861205\n"
     ]
    },
    {
     "name": "stderr",
     "output_type": "stream",
     "text": [
      "100%|██████████| 32/32 [00:02<00:00, 10.96it/s]\n"
     ]
    },
    {
     "name": "stdout",
     "output_type": "stream",
     "text": [
      "validation loss: 1.7851762808859348\n",
      "validation accuracy: 36.4990234375%\n",
      "loss at step 8650: 2.1114230704307557\n",
      "loss at step 8700: 2.1048057532310485\n",
      "loss at step 8750: 2.1271958112716676\n",
      "loss at step 8800: 2.195327832698822\n"
     ]
    },
    {
     "name": "stderr",
     "output_type": "stream",
     "text": [
      "100%|██████████| 32/32 [00:03<00:00, 10.43it/s]\n"
     ]
    },
    {
     "name": "stdout",
     "output_type": "stream",
     "text": [
      "validation loss: 1.7833297923207283\n",
      "validation accuracy: 35.9619140625%\n",
      "loss at step 8850: 2.0822678351402284\n",
      "loss at step 8900: 2.1290112113952637\n",
      "loss at step 8950: 2.1150684094429018\n",
      "loss at step 9000: 2.0983270311355593\n"
     ]
    },
    {
     "name": "stderr",
     "output_type": "stream",
     "text": [
      "100%|██████████| 32/32 [00:03<00:00, 10.65it/s]\n"
     ]
    },
    {
     "name": "stdout",
     "output_type": "stream",
     "text": [
      "validation loss: 1.7894704267382622\n",
      "validation accuracy: 36.92626953125%\n",
      "loss at step 9050: 2.151949589252472\n",
      "loss at step 9100: 2.0514287519454957\n",
      "loss at step 9150: 2.145778338909149\n",
      "loss at step 9200: 2.0387615156173706\n"
     ]
    },
    {
     "name": "stderr",
     "output_type": "stream",
     "text": [
      "100%|██████████| 32/32 [00:02<00:00, 10.98it/s]\n"
     ]
    },
    {
     "name": "stdout",
     "output_type": "stream",
     "text": [
      "validation loss: 1.7867044992744923\n",
      "validation accuracy: 36.6455078125%\n",
      "loss at step 9250: 2.104103357791901\n",
      "loss at step 9300: 2.1316096234321593\n",
      "loss at step 9350: 2.122466802597046\n",
      "loss at step 9400: 2.1493461108207703\n"
     ]
    },
    {
     "name": "stderr",
     "output_type": "stream",
     "text": [
      "100%|██████████| 32/32 [00:02<00:00, 10.89it/s]\n"
     ]
    },
    {
     "name": "stdout",
     "output_type": "stream",
     "text": [
      "validation loss: 1.77762046828866\n",
      "validation accuracy: 36.4990234375%\n",
      "loss at step 9450: 2.1047444939613342\n",
      "loss at step 9500: 2.1071203541755676\n",
      "loss at step 9550: 2.186663565635681\n",
      "loss at step 9600: 2.1067179012298585\n"
     ]
    },
    {
     "name": "stderr",
     "output_type": "stream",
     "text": [
      "100%|██████████| 32/32 [00:02<00:00, 10.85it/s]\n"
     ]
    },
    {
     "name": "stdout",
     "output_type": "stream",
     "text": [
      "validation loss: 1.7851886972784996\n",
      "validation accuracy: 36.3037109375%\n",
      "loss at step 9650: 2.1217751789093016\n",
      "loss at step 9700: 2.108080413341522\n"
     ]
    },
    {
     "ename": "KeyboardInterrupt",
     "evalue": "",
     "output_type": "error",
     "traceback": [
      "\u001B[1;31m---------------------------------------------------------------------------\u001B[0m",
      "\u001B[1;31mKeyboardInterrupt\u001B[0m                         Traceback (most recent call last)",
      "Cell \u001B[1;32mIn[9], line 70\u001B[0m\n\u001B[0;32m     68\u001B[0m start_data \u001B[38;5;241m=\u001B[39m data[\u001B[38;5;241m250000\u001B[39m][\u001B[38;5;241m0\u001B[39m] \n\u001B[0;32m     69\u001B[0m display(data)\n\u001B[1;32m---> 70\u001B[0m \u001B[43mtrainer\u001B[49m\u001B[38;5;241;43m.\u001B[39;49m\u001B[43mtrain\u001B[49m\u001B[43m(\u001B[49m\u001B[43mbatch_size\u001B[49m\u001B[38;5;241;43m=\u001B[39;49m\u001B[38;5;241;43m16\u001B[39;49m\u001B[43m,\u001B[49m\n\u001B[0;32m     71\u001B[0m \u001B[43m              \u001B[49m\u001B[43mepochs\u001B[49m\u001B[38;5;241;43m=\u001B[39;49m\u001B[38;5;241;43m12\u001B[39;49m\u001B[43m)\u001B[49m\n",
      "File \u001B[1;32mC:\\pj\\dll24\\notebooks\\reproduce_training_ekaterina\\gen_model_test\\wavenet_model\\wavenet_training.py:74\u001B[0m, in \u001B[0;36mWavenetTrainer.train\u001B[1;34m(self, batch_size, epochs, continue_training_at_step)\u001B[0m\n\u001B[0;32m     72\u001B[0m \u001B[38;5;28mself\u001B[39m\u001B[38;5;241m.\u001B[39moptimizer\u001B[38;5;241m.\u001B[39mzero_grad()\n\u001B[0;32m     73\u001B[0m loss\u001B[38;5;241m.\u001B[39mbackward()\n\u001B[1;32m---> 74\u001B[0m loss \u001B[38;5;241m=\u001B[39m \u001B[43mloss\u001B[49m\u001B[38;5;241;43m.\u001B[39;49m\u001B[43mitem\u001B[49m\u001B[43m(\u001B[49m\u001B[43m)\u001B[49m\n\u001B[0;32m     76\u001B[0m \u001B[38;5;28;01mif\u001B[39;00m \u001B[38;5;28mself\u001B[39m\u001B[38;5;241m.\u001B[39mclip \u001B[38;5;129;01mis\u001B[39;00m \u001B[38;5;129;01mnot\u001B[39;00m \u001B[38;5;28;01mNone\u001B[39;00m:\n\u001B[0;32m     77\u001B[0m     torch\u001B[38;5;241m.\u001B[39mnn\u001B[38;5;241m.\u001B[39mutils\u001B[38;5;241m.\u001B[39mclip_grad_norm(\u001B[38;5;28mself\u001B[39m\u001B[38;5;241m.\u001B[39mmodel\u001B[38;5;241m.\u001B[39mparameters(), \u001B[38;5;28mself\u001B[39m\u001B[38;5;241m.\u001B[39mclip)\n",
      "\u001B[1;31mKeyboardInterrupt\u001B[0m: "
     ]
    }
   ],
   "execution_count": 9
  },
  {
   "metadata": {
    "ExecuteTime": {
     "end_time": "2024-09-05T22:03:20.222180Z",
     "start_time": "2024-09-05T21:49:59.963269Z"
    }
   },
   "cell_type": "code",
   "source": [
    "\n",
    "from models.WAVENET.wavenet_v1.audio_data import WavenetDataset\n",
    "\n",
    "dtype = torch.FloatTensor  # data type\n",
    "ltype = torch.LongTensor  # label type\n",
    "\n",
    "use_cuda = torch.cuda.is_available()\n",
    "if use_cuda:\n",
    "    print('use gpu')\n",
    "    dtype = torch.cuda.FloatTensor\n",
    "    ltype = torch.cuda.LongTensor\n",
    "device = torch.device(\"cuda\")\n",
    "\n",
    "model = WaveNetModel(layers=10,\n",
    "                     blocks=3,\n",
    "                     dilation_channels=32,\n",
    "                     residual_channels=32,\n",
    "                     skip_channels=1024,\n",
    "                     end_channels=512,\n",
    "                     output_length=16,\n",
    "                     dtype=dtype,\n",
    "                     bias=True)\n",
    "model.load_state_dict(torch.load('birdset_modelwavenet_model.pth', weights_only=False))\n",
    "model.eval()\n",
    "model.cuda()\n",
    "\n",
    "data = WavenetDataset(dataset_file='./example.npz',\n",
    "                      item_length=model.receptive_field + model.output_length - 1,\n",
    "                      target_length=model.output_length,\n",
    "                      file_location='./unpacked_data',\n",
    "                      test_stride=500)\n",
    "print('the dataset has ' + str(len(data)) + ' items')\n",
    "\n",
    "\n",
    "\n",
    "start_data = data[250000][0]\n",
    "start_data = torch.max(start_data, 0)[1].to('cuda')\n",
    "def prog_callback(step, total_steps):\n",
    "    print(str(100 * step // total_steps) + \"% generated\")\n",
    "\n",
    "generated = model.generate_fast(num_samples=64000,\n",
    "                                 first_samples=start_data,\n",
    "                                 progress_callback=prog_callback,\n",
    "                                 progress_interval=1000,\n",
    "                                 temperature=1.0,\n",
    "                                 regularize=0.)"
   ],
   "outputs": [
    {
     "name": "stdout",
     "output_type": "stream",
     "text": [
      "use gpu\n",
      "one hot input\n",
      "the dataset has 255490 items\n",
      "torch.Size([1, 256, 1])\n",
      "0% generated\n",
      "1% generated\n",
      "2% generated\n",
      "4% generated\n",
      "one generating step does take approximately 0.011269981861114503 seconds)\n",
      "5% generated\n",
      "7% generated\n",
      "8% generated\n",
      "10% generated\n",
      "11% generated\n",
      "13% generated\n",
      "14% generated\n",
      "16% generated\n",
      "17% generated\n",
      "19% generated\n",
      "20% generated\n",
      "22% generated\n",
      "23% generated\n",
      "25% generated\n",
      "26% generated\n",
      "28% generated\n",
      "29% generated\n",
      "31% generated\n",
      "32% generated\n",
      "34% generated\n",
      "35% generated\n",
      "37% generated\n",
      "38% generated\n",
      "40% generated\n",
      "41% generated\n",
      "43% generated\n",
      "44% generated\n",
      "46% generated\n",
      "47% generated\n",
      "49% generated\n",
      "50% generated\n",
      "52% generated\n",
      "53% generated\n",
      "55% generated\n",
      "56% generated\n",
      "58% generated\n",
      "59% generated\n",
      "61% generated\n",
      "62% generated\n",
      "64% generated\n",
      "65% generated\n",
      "67% generated\n",
      "68% generated\n",
      "70% generated\n",
      "71% generated\n",
      "73% generated\n",
      "74% generated\n",
      "76% generated\n",
      "77% generated\n",
      "79% generated\n",
      "80% generated\n",
      "81% generated\n",
      "83% generated\n",
      "84% generated\n",
      "86% generated\n",
      "87% generated\n",
      "89% generated\n",
      "90% generated\n",
      "92% generated\n",
      "93% generated\n",
      "95% generated\n",
      "96% generated\n",
      "98% generated\n",
      "99% generated\n"
     ]
    }
   ],
   "execution_count": 12
  },
  {
   "metadata": {
    "ExecuteTime": {
     "end_time": "2024-09-05T22:17:18.549104Z",
     "start_time": "2024-09-05T22:17:18.542658Z"
    }
   },
   "cell_type": "code",
   "source": [
    "import IPython.display as ipd\n",
    "import soundfile as sf\n",
    "\n",
    "print(generated.shape)\n",
    "ipd.Audio(generated, rate=16000)\n",
    "\n",
    "sf.write('output_file.wav', generated, 16000)"
   ],
   "outputs": [
    {
     "name": "stdout",
     "output_type": "stream",
     "text": [
      "(64000,)\n"
     ]
    }
   ],
   "execution_count": 13
  },
  {
   "metadata": {},
   "cell_type": "code",
   "outputs": [],
   "execution_count": null,
   "source": ""
  }
 ],
 "metadata": {
  "anaconda-cloud": {},
  "kernelspec": {
   "display_name": "Python 3 (ipykernel)",
   "language": "python",
   "name": "python3"
  },
  "language_info": {
   "codemirror_mode": {
    "name": "ipython",
    "version": 3
   },
   "file_extension": ".py",
   "mimetype": "text/x-python",
   "name": "python",
   "nbconvert_exporter": "python",
   "pygments_lexer": "ipython3",
   "version": "3.5.2"
  }
 },
 "nbformat": 4,
 "nbformat_minor": 1
}
