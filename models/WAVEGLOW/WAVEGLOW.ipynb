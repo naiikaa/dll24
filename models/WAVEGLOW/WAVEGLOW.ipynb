{
 "cells": [
  {
   "cell_type": "code",
   "metadata": {
    "collapsed": true,
    "ExecuteTime": {
     "end_time": "2024-10-12T16:14:36.120637Z",
     "start_time": "2024-10-12T15:36:04.681862Z"
    }
   },
   "source": [
    "# dep: git clone https://github.com/NVIDIA/waveglow\n",
    "# from waveglow import glow\n",
    "import numpy as np\n",
    "import torch\n",
    "import torch.nn as nn\n",
    "import torch.optim as optim\n",
    "import torchaudio\n",
    "from torch.utils.data import DataLoader, Dataset\n",
    "import os\n",
    "\n",
    "import torch\n",
    "import torchaudio\n",
    "import torch.nn.functional as F\n",
    "\n",
    "\n",
    "def apply_gain(waveform, gain_db):\n",
    "    gain = 10 ** (gain_db / 20)\n",
    "    return torch.clamp(waveform * gain, min=-1e6, max=1e6)\n",
    "\n",
    "\n",
    "class WaveGlowDataset(Dataset):\n",
    "    def __init__(self, wav_dir, transform=None, max_length=None):\n",
    "        self.wav_dir = wav_dir\n",
    "        self.wav_files = sorted([f for f in os.listdir(wav_dir) if f.endswith(\".wav\")])\n",
    "        self.transform = transform\n",
    "        self.max_length = max_length\n",
    "\n",
    "    def __len__(self):\n",
    "        return len(self.wav_files)\n",
    "\n",
    "    def __getitem__(self, idx):\n",
    "        wav_path = os.path.join(self.wav_dir, self.wav_files[idx])\n",
    "        waveform, sample_rate = torchaudio.load(wav_path)\n",
    "        waveform = apply_gain(waveform, 40)\n",
    "\n",
    "        if self.transform:\n",
    "            mel_spec = self.transform(waveform)\n",
    "        else:\n",
    "            mel_spec = torchaudio.transforms.MelSpectrogram()(waveform)\n",
    "        mel_spec = self.pad_or_trim(mel_spec, self.max_length)\n",
    "        waveform = self.pad_or_trim(waveform, self.max_length)\n",
    "        return mel_spec, waveform\n",
    "\n",
    "    def pad_or_trim(self, tensor, max_length):\n",
    "        current_length = tensor.shape[-1]\n",
    "        if max_length is not None and current_length > max_length:\n",
    "            return tensor[..., :max_length]\n",
    "        elif max_length is not None and current_length < max_length:\n",
    "            pad_amount = max_length - current_length\n",
    "            return F.pad(tensor, (0, pad_amount), \"constant\", 0)\n",
    "        else:\n",
    "            return tensor\n",
    "\n",
    "\n",
    "class Invertible1x1Conv(nn.Module):\n",
    "    def __init__(self, num_channels):\n",
    "        super(Invertible1x1Conv, self).__init__()\n",
    "        w_init = torch.linalg.qr(torch.randn(num_channels, num_channels))[0]\n",
    "        self.weight = nn.Parameter(w_init)\n",
    "        self.conv = nn.Conv1d(num_channels, num_channels, kernel_size=1, stride=1, padding=0, bias=False)\n",
    "        nn.init.orthogonal_(self.conv.weight)\n",
    "\n",
    "    def forward(self, z):\n",
    "        if len(z.size()) == 4:\n",
    "            batch_size, _, num_channels, length = z.size()\n",
    "        if len(z.size()) == 3:\n",
    "            batch_size, num_channels, length = z.size()\n",
    "        z = z.squeeze(1)\n",
    "        z = torch.clamp(z, min=1e-6, max=1e6)\n",
    "        z = self.conv(z)\n",
    "        return z\n",
    "\n",
    "    def inverse(self, z):\n",
    "        batch_size, _, num_channels, length = z.size()\n",
    "        z = z.squeeze(1)\n",
    "        weight_inv = torch.inverse(self.conv.weight.squeeze()).unsqueeze(2)\n",
    "        z = torch.clamp(z, min=1e-6, max=1e6)\n",
    "        z = torch.nn.functional.conv1d(z, weight_inv)\n",
    "        return z\n",
    "\n",
    "\n",
    "class AffineCoupling(nn.Module):\n",
    "    def __init__(self, num_channels):\n",
    "        super(AffineCoupling, self).__init__()\n",
    "        self.net = nn.Sequential(\n",
    "            nn.Conv1d(num_channels // 2, num_channels, kernel_size=3, padding=1),\n",
    "            nn.ReLU(),\n",
    "            nn.Conv1d(num_channels, num_channels, kernel_size=3, padding=1),\n",
    "            nn.ReLU(),\n",
    "            nn.Conv1d(num_channels, num_channels // 2, kernel_size=3, padding=1)\n",
    "        )\n",
    "\n",
    "    def forward(self, z):\n",
    "        z1, z2 = z.chunk(2, 1)\n",
    "        z = torch.clamp(z, min=1e-6, max=1e6)\n",
    "        log_s, t = self.net(z1).chunk(2, 1)\n",
    "        # s = torch.exp(log_s)\n",
    "        s = torch.exp(log_s.clamp(min=-10, max=10))\n",
    "        t = torch.clamp(s, min=1e-6, max=1e6)\n",
    "        # log_s = torch.clamp(s, min=1e-6, max=1e6)\n",
    "\n",
    "        repeat_factor = z2.size(1) // s.size(1)\n",
    "        s = s.repeat(1, repeat_factor, 1)\n",
    "        s = s[:, :64, :]\n",
    "        t = t.repeat(1, repeat_factor, 1)\n",
    "        t = t[:, :64, :]\n",
    "\n",
    "        z2 = s * z2 + t\n",
    "        out = torch.cat([z1, z2], 1)\n",
    "\n",
    "        # log_det = log_s.sum(dim=1, keepdim=True)\n",
    "        log_det = log_s.sum(dim=[0, 1, 2])\n",
    "        # print(f'z1: {z1}, z2: {z2}, log_s: {log_s}, s: {s}, t: {t}')\n",
    "        return out.unsqueeze(1), log_det\n",
    "\n",
    "    def inverse(self, z):\n",
    "        z = torch.clamp(z, min=1e-6, max=1e6)\n",
    "        z1, z2 = z.chunk(2, 1)\n",
    "        z1 = torch.clamp(z1, min=1e-6, max=1e6)\n",
    "        z2 = torch.clamp(z2, min=1e-6, max=1e6)\n",
    "        log_s, t = self.net(z1).chunk(2, 1)\n",
    "        s = torch.exp(log_s)\n",
    "        z2 = (z2 - t) / s\n",
    "        out = torch.cat([z1, z2], 1)\n",
    "        return out\n",
    "\n",
    "\n",
    "class WN(nn.Module):\n",
    "    def __init__(self, num_channels):\n",
    "        super(WN, self).__init__()\n",
    "        self.layers = nn.ModuleList([\n",
    "            nn.Conv1d(num_channels, num_channels, kernel_size=3, padding=1, dilation=2 ** i)\n",
    "            for i in range(6)\n",
    "        ])\n",
    "\n",
    "    def forward(self, x):\n",
    "        x = x.squeeze(1)\n",
    "        for idx, conv in enumerate(self.layers):\n",
    "            x = conv(x)\n",
    "            x = torch.clamp(x, min=-1e6, max=1e6)\n",
    "            x = torch.nn.functional.relu(x)\n",
    "        return x, 0\n",
    "\n",
    "\n",
    "class WaveGlow(nn.Module):\n",
    "    def __init__(self, num_channels, num_flows):\n",
    "        super(WaveGlow, self).__init__()\n",
    "        self.num_flows = num_flows\n",
    "        self.flows = nn.ModuleList()\n",
    "\n",
    "        for _ in range(num_flows):\n",
    "            self.flows.append(Invertible1x1Conv(num_channels))\n",
    "            self.flows.append(AffineCoupling(num_channels))\n",
    "            self.flows.append(WN(num_channels))\n",
    "\n",
    "    def forward(self, z):\n",
    "        log_det_jacobian = 0\n",
    "        z = torch.clamp(z, min=1e-6, max=1e6)\n",
    "\n",
    "        if len(z.size()) < 4:\n",
    "            z = z.unsqueeze(1)\n",
    "        for flow in self.flows:\n",
    "            if isinstance(flow, Invertible1x1Conv):\n",
    "                z = flow(z)\n",
    "                log_det_jacobian += torch.log(torch.abs(torch.det(flow.weight.squeeze(0)))) * z.size(0)\n",
    "\n",
    "                # if torch.isnan(z).any():\n",
    "                #    print(\"NaN detected after Invertible1x1Conv\")\n",
    "\n",
    "            elif isinstance(flow, AffineCoupling):\n",
    "                z, log_det = flow(z)\n",
    "                # avoid getting nans as a result\n",
    "                if not torch.isnan(log_det).any():\n",
    "                    log_det_jacobian += log_det\n",
    "\n",
    "                # debug\n",
    "                # if torch.isnan(z).any():\n",
    "                #     print(\"NaN detected after AffineCoupling\")\n",
    "            elif isinstance(flow, WN):\n",
    "                z, log_det = flow(z)\n",
    "                log_det_jacobian += log_det\n",
    "\n",
    "                # if torch.isnan(z).any():\n",
    "                #  print(\"NaN detected after WN\")\n",
    "        return z, log_det_jacobian\n",
    "\n",
    "    def inverse(self, z):\n",
    "        for flow in reversed(self.flows):\n",
    "            if isinstance(flow, Invertible1x1Conv):\n",
    "                z = flow.inverse(z)\n",
    "            elif isinstance(flow, AffineCoupling):\n",
    "                z = flow.inverse(z)\n",
    "            elif isinstance(flow, WN):\n",
    "                z = flow(z)\n",
    "        return z\n",
    "\n",
    "\n",
    "def normalize(spectrograms):\n",
    "    return (spectrograms - spectrograms.mean()) / (spectrograms.std() + 1e-8)\n",
    "\n",
    "def init_weights(m):\n",
    "    if isinstance(m, nn.Conv1d):\n",
    "        nn.init.kaiming_uniform_(m.weight)\n",
    "    elif isinstance(m, nn.Linear):\n",
    "        nn.init.xavier_uniform_(m.weight)\n",
    "\n",
    "def train_waveglow(wav_dir, num_epochs=10, batch_size=16, learning_rate=1e-4, device='cuda'):\n",
    "    # same as in vqvae2 implementation\n",
    "    num_channels = 64\n",
    "    mel_transform = torchaudio.transforms.MelSpectrogram(n_mels=num_channels, n_fft=512)\n",
    "    max_length = 24000\n",
    "    dataset = WaveGlowDataset(wav_dir=wav_dir, transform=mel_transform, max_length=max_length)\n",
    "    dataloader = DataLoader(dataset, batch_size=batch_size, shuffle=True)\n",
    "\n",
    "    num_flows = 15\n",
    "\n",
    "    waveglow = WaveGlow(num_channels=num_channels, num_flows=num_flows).to(device)\n",
    "    waveglow.apply(init_weights)\n",
    "    optimizer = optim.Adam(waveglow.parameters(), lr=learning_rate)\n",
    "    initial_lr = 1e-6\n",
    "    target_lr = 1e-4\n",
    "    warmup_steps = 1000\n",
    "    total_steps = 5000\n",
    "\n",
    "    # for training_step in range(total_steps):\n",
    "    for epoch in range(num_epochs):\n",
    "        waveglow.train()\n",
    "        running_loss = 0.0\n",
    "\n",
    "        for spectrograms, waveforms in dataloader:\n",
    "            spectrograms = spectrograms.to(device)\n",
    "            # spectrograms = normalize(spectrograms)\n",
    "            z, log_det_jacobian = waveglow(spectrograms)\n",
    "            loss = 0.5 * torch.sum(z ** 2) - log_det_jacobian\n",
    "            display(loss)\n",
    "            optimizer.zero_grad()\n",
    "            loss.backward()\n",
    "\n",
    "            '''\n",
    "            if training_step < warmup_steps:\n",
    "                lr = initial_lr + (target_lr - initial_lr) * (training_step / warmup_steps)\n",
    "            else:\n",
    "                lr = target_lr\n",
    "            for param_group in optimizer.param_groups:\n",
    "                param_group['lr'] = lr\n",
    "            '''\n",
    "            optimizer.step()\n",
    "            running_loss += loss.item()\n",
    "        display(f'Epoch [{epoch + 1}/{num_epochs}], Loss: {running_loss}')\n",
    "    torch.save(waveglow.state_dict(), 'waveglow.pth')\n",
    "\n",
    "def load_waveglow_model(model_path, device='cuda'):\n",
    "    waveglow = WaveGlow(num_channels=64, num_flows=15) \n",
    "    waveglow.load_state_dict(torch.load(model_path, map_location=device))\n",
    "    waveglow.eval() \n",
    "    return waveglow.to(device)\n",
    "\n",
    "def generate_samples(waveglow, num_samples=1, duration=5, device='cuda'):\n",
    "    noise = torch.randn(num_samples, 64, duration * 24000).to(device) \n",
    "    with torch.no_grad():\n",
    "        generated_samples, _ = waveglow(noise)\n",
    "    return generated_samples\n",
    "\n",
    "\n",
    "def save_waveform(waveform, sample_rate=24000, file_name='generated_sample.wav'):\n",
    "    out = waveform.cpu().squeeze(0)\n",
    "    torchaudio.save(file_name, out, sample_rate)\n",
    "\n",
    "\n",
    "train_waveglow('../../data/unpacked_data', num_epochs=10, batch_size=16)\n",
    "\n",
    "device = 'cuda' if torch.cuda.is_available() else 'cpu'\n",
    "waveglow_model_path = 'waveglow.pth'\n",
    "waveglow = load_waveglow_model(waveglow_model_path, device)\n",
    "\n",
    "generated_samples = generate_samples(waveglow, num_samples=2, duration=5, device=device)\n",
    "\n",
    "for i in range(generated_samples.size(0)):\n",
    "    save_waveform(generated_samples[i].unsqueeze(0), sample_rate=24000, file_name=f'generated_sample_{i}.wav')\n",
    "\n"
   ],
   "outputs": [
    {
     "data": {
      "text/plain": [
       "tensor(7.3377e+17, device='cuda:0', grad_fn=<SubBackward0>)"
      ]
     },
     "metadata": {},
     "output_type": "display_data"
    },
    {
     "data": {
      "text/plain": [
       "tensor(7.4762e+17, device='cuda:0', grad_fn=<SubBackward0>)"
      ]
     },
     "metadata": {},
     "output_type": "display_data"
    },
    {
     "data": {
      "text/plain": [
       "tensor(6.7064e+17, device='cuda:0', grad_fn=<SubBackward0>)"
      ]
     },
     "metadata": {},
     "output_type": "display_data"
    },
    {
     "data": {
      "text/plain": [
       "tensor(6.0508e+17, device='cuda:0', grad_fn=<SubBackward0>)"
      ]
     },
     "metadata": {},
     "output_type": "display_data"
    },
    {
     "data": {
      "text/plain": [
       "tensor(7.1471e+17, device='cuda:0', grad_fn=<SubBackward0>)"
      ]
     },
     "metadata": {},
     "output_type": "display_data"
    },
    {
     "data": {
      "text/plain": [
       "tensor(1.3076e+17, device='cuda:0', grad_fn=<SubBackward0>)"
      ]
     },
     "metadata": {},
     "output_type": "display_data"
    },
    {
     "data": {
      "text/plain": [
       "'Epoch [1/10], Loss: 600431713538364800.0000'"
      ]
     },
     "metadata": {},
     "output_type": "display_data"
    },
    {
     "data": {
      "text/plain": [
       "tensor(4.1933e+17, device='cuda:0', grad_fn=<SubBackward0>)"
      ]
     },
     "metadata": {},
     "output_type": "display_data"
    },
    {
     "data": {
      "text/plain": [
       "tensor(5.7021e+17, device='cuda:0', grad_fn=<SubBackward0>)"
      ]
     },
     "metadata": {},
     "output_type": "display_data"
    },
    {
     "data": {
      "text/plain": [
       "tensor(4.4969e+17, device='cuda:0', grad_fn=<SubBackward0>)"
      ]
     },
     "metadata": {},
     "output_type": "display_data"
    },
    {
     "data": {
      "text/plain": [
       "tensor(4.0266e+17, device='cuda:0', grad_fn=<SubBackward0>)"
      ]
     },
     "metadata": {},
     "output_type": "display_data"
    },
    {
     "data": {
      "text/plain": [
       "tensor(5.8684e+17, device='cuda:0', grad_fn=<SubBackward0>)"
      ]
     },
     "metadata": {},
     "output_type": "display_data"
    },
    {
     "data": {
      "text/plain": [
       "tensor(1.2467e+17, device='cuda:0', grad_fn=<SubBackward0>)"
      ]
     },
     "metadata": {},
     "output_type": "display_data"
    },
    {
     "data": {
      "text/plain": [
       "'Epoch [2/10], Loss: 425567023502721024.0000'"
      ]
     },
     "metadata": {},
     "output_type": "display_data"
    },
    {
     "data": {
      "text/plain": [
       "tensor(5.5947e+17, device='cuda:0', grad_fn=<SubBackward0>)"
      ]
     },
     "metadata": {},
     "output_type": "display_data"
    },
    {
     "data": {
      "text/plain": [
       "tensor(3.5025e+17, device='cuda:0', grad_fn=<SubBackward0>)"
      ]
     },
     "metadata": {},
     "output_type": "display_data"
    },
    {
     "data": {
      "text/plain": [
       "tensor(2.8126e+17, device='cuda:0', grad_fn=<SubBackward0>)"
      ]
     },
     "metadata": {},
     "output_type": "display_data"
    },
    {
     "data": {
      "text/plain": [
       "tensor(3.5851e+17, device='cuda:0', grad_fn=<SubBackward0>)"
      ]
     },
     "metadata": {},
     "output_type": "display_data"
    },
    {
     "data": {
      "text/plain": [
       "tensor(2.8983e+17, device='cuda:0', grad_fn=<SubBackward0>)"
      ]
     },
     "metadata": {},
     "output_type": "display_data"
    },
    {
     "data": {
      "text/plain": [
       "tensor(7.7303e+16, device='cuda:0', grad_fn=<SubBackward0>)"
      ]
     },
     "metadata": {},
     "output_type": "display_data"
    },
    {
     "data": {
      "text/plain": [
       "'Epoch [3/10], Loss: 319437376596213760.0000'"
      ]
     },
     "metadata": {},
     "output_type": "display_data"
    },
    {
     "data": {
      "text/plain": [
       "tensor(2.6946e+17, device='cuda:0', grad_fn=<SubBackward0>)"
      ]
     },
     "metadata": {},
     "output_type": "display_data"
    },
    {
     "data": {
      "text/plain": [
       "tensor(3.3702e+17, device='cuda:0', grad_fn=<SubBackward0>)"
      ]
     },
     "metadata": {},
     "output_type": "display_data"
    },
    {
     "data": {
      "text/plain": [
       "tensor(4.6887e+17, device='cuda:0', grad_fn=<SubBackward0>)"
      ]
     },
     "metadata": {},
     "output_type": "display_data"
    },
    {
     "data": {
      "text/plain": [
       "tensor(3.3415e+17, device='cuda:0', grad_fn=<SubBackward0>)"
      ]
     },
     "metadata": {},
     "output_type": "display_data"
    },
    {
     "data": {
      "text/plain": [
       "tensor(2.8165e+17, device='cuda:0', grad_fn=<SubBackward0>)"
      ]
     },
     "metadata": {},
     "output_type": "display_data"
    },
    {
     "data": {
      "text/plain": [
       "tensor(1.0025e+17, device='cuda:0', grad_fn=<SubBackward0>)"
      ]
     },
     "metadata": {},
     "output_type": "display_data"
    },
    {
     "data": {
      "text/plain": [
       "'Epoch [4/10], Loss: 298564617221701632.0000'"
      ]
     },
     "metadata": {},
     "output_type": "display_data"
    },
    {
     "data": {
      "text/plain": [
       "tensor(3.1440e+17, device='cuda:0', grad_fn=<SubBackward0>)"
      ]
     },
     "metadata": {},
     "output_type": "display_data"
    },
    {
     "data": {
      "text/plain": [
       "tensor(3.0069e+17, device='cuda:0', grad_fn=<SubBackward0>)"
      ]
     },
     "metadata": {},
     "output_type": "display_data"
    },
    {
     "data": {
      "text/plain": [
       "tensor(2.1586e+17, device='cuda:0', grad_fn=<SubBackward0>)"
      ]
     },
     "metadata": {},
     "output_type": "display_data"
    },
    {
     "data": {
      "text/plain": [
       "tensor(2.4058e+17, device='cuda:0', grad_fn=<SubBackward0>)"
      ]
     },
     "metadata": {},
     "output_type": "display_data"
    },
    {
     "data": {
      "text/plain": [
       "tensor(2.5352e+17, device='cuda:0', grad_fn=<SubBackward0>)"
      ]
     },
     "metadata": {},
     "output_type": "display_data"
    },
    {
     "data": {
      "text/plain": [
       "tensor(6.5336e+16, device='cuda:0', grad_fn=<SubBackward0>)"
      ]
     },
     "metadata": {},
     "output_type": "display_data"
    },
    {
     "data": {
      "text/plain": [
       "'Epoch [5/10], Loss: 231731562420720992.0000'"
      ]
     },
     "metadata": {},
     "output_type": "display_data"
    },
    {
     "data": {
      "text/plain": [
       "tensor(2.8746e+17, device='cuda:0', grad_fn=<SubBackward0>)"
      ]
     },
     "metadata": {},
     "output_type": "display_data"
    },
    {
     "data": {
      "text/plain": [
       "tensor(2.6428e+17, device='cuda:0', grad_fn=<SubBackward0>)"
      ]
     },
     "metadata": {},
     "output_type": "display_data"
    },
    {
     "data": {
      "text/plain": [
       "tensor(2.3727e+17, device='cuda:0', grad_fn=<SubBackward0>)"
      ]
     },
     "metadata": {},
     "output_type": "display_data"
    },
    {
     "data": {
      "text/plain": [
       "tensor(2.0811e+17, device='cuda:0', grad_fn=<SubBackward0>)"
      ]
     },
     "metadata": {},
     "output_type": "display_data"
    },
    {
     "data": {
      "text/plain": [
       "tensor(2.0075e+17, device='cuda:0', grad_fn=<SubBackward0>)"
      ]
     },
     "metadata": {},
     "output_type": "display_data"
    },
    {
     "data": {
      "text/plain": [
       "tensor(4.7521e+16, device='cuda:0', grad_fn=<SubBackward0>)"
      ]
     },
     "metadata": {},
     "output_type": "display_data"
    },
    {
     "data": {
      "text/plain": [
       "'Epoch [6/10], Loss: 207564382025722528.0000'"
      ]
     },
     "metadata": {},
     "output_type": "display_data"
    },
    {
     "data": {
      "text/plain": [
       "tensor(2.2379e+17, device='cuda:0', grad_fn=<SubBackward0>)"
      ]
     },
     "metadata": {},
     "output_type": "display_data"
    },
    {
     "data": {
      "text/plain": [
       "tensor(2.1560e+17, device='cuda:0', grad_fn=<SubBackward0>)"
      ]
     },
     "metadata": {},
     "output_type": "display_data"
    },
    {
     "data": {
      "text/plain": [
       "tensor(7.5864e+16, device='cuda:0', grad_fn=<SubBackward0>)"
      ]
     },
     "metadata": {},
     "output_type": "display_data"
    },
    {
     "data": {
      "text/plain": [
       "tensor(7.0315e+16, device='cuda:0', grad_fn=<SubBackward0>)"
      ]
     },
     "metadata": {},
     "output_type": "display_data"
    },
    {
     "data": {
      "text/plain": [
       "tensor(6.4088e+16, device='cuda:0', grad_fn=<SubBackward0>)"
      ]
     },
     "metadata": {},
     "output_type": "display_data"
    },
    {
     "data": {
      "text/plain": [
       "tensor(1.4214e+16, device='cuda:0', grad_fn=<SubBackward0>)"
      ]
     },
     "metadata": {},
     "output_type": "display_data"
    },
    {
     "data": {
      "text/plain": [
       "'Epoch [7/10], Loss: 110646261716440400.0000'"
      ]
     },
     "metadata": {},
     "output_type": "display_data"
    },
    {
     "data": {
      "text/plain": [
       "tensor(9.8023e+16, device='cuda:0', grad_fn=<SubBackward0>)"
      ]
     },
     "metadata": {},
     "output_type": "display_data"
    },
    {
     "data": {
      "text/plain": [
       "tensor(5.2546e+16, device='cuda:0', grad_fn=<SubBackward0>)"
      ]
     },
     "metadata": {},
     "output_type": "display_data"
    },
    {
     "data": {
      "text/plain": [
       "tensor(1.0655e+17, device='cuda:0', grad_fn=<SubBackward0>)"
      ]
     },
     "metadata": {},
     "output_type": "display_data"
    },
    {
     "data": {
      "text/plain": [
       "tensor(1.6897e+17, device='cuda:0', grad_fn=<SubBackward0>)"
      ]
     },
     "metadata": {},
     "output_type": "display_data"
    },
    {
     "data": {
      "text/plain": [
       "tensor(1.1448e+17, device='cuda:0', grad_fn=<SubBackward0>)"
      ]
     },
     "metadata": {},
     "output_type": "display_data"
    },
    {
     "data": {
      "text/plain": [
       "tensor(2.4761e+16, device='cuda:0', grad_fn=<SubBackward0>)"
      ]
     },
     "metadata": {},
     "output_type": "display_data"
    },
    {
     "data": {
      "text/plain": [
       "'Epoch [8/10], Loss: 94223040858030080.0000'"
      ]
     },
     "metadata": {},
     "output_type": "display_data"
    },
    {
     "data": {
      "text/plain": [
       "tensor(2.3076e+17, device='cuda:0', grad_fn=<SubBackward0>)"
      ]
     },
     "metadata": {},
     "output_type": "display_data"
    },
    {
     "data": {
      "text/plain": [
       "tensor(1.0761e+17, device='cuda:0', grad_fn=<SubBackward0>)"
      ]
     },
     "metadata": {},
     "output_type": "display_data"
    },
    {
     "data": {
      "text/plain": [
       "tensor(1.2805e+17, device='cuda:0', grad_fn=<SubBackward0>)"
      ]
     },
     "metadata": {},
     "output_type": "display_data"
    },
    {
     "data": {
      "text/plain": [
       "tensor(1.5692e+17, device='cuda:0', grad_fn=<SubBackward0>)"
      ]
     },
     "metadata": {},
     "output_type": "display_data"
    },
    {
     "data": {
      "text/plain": [
       "tensor(9.8234e+16, device='cuda:0', grad_fn=<SubBackward0>)"
      ]
     },
     "metadata": {},
     "output_type": "display_data"
    },
    {
     "data": {
      "text/plain": [
       "tensor(2.6378e+16, device='cuda:0', grad_fn=<SubBackward0>)"
      ]
     },
     "metadata": {},
     "output_type": "display_data"
    },
    {
     "data": {
      "text/plain": [
       "'Epoch [9/10], Loss: 124658628668948480.0000'"
      ]
     },
     "metadata": {},
     "output_type": "display_data"
    },
    {
     "data": {
      "text/plain": [
       "tensor(1.5700e+17, device='cuda:0', grad_fn=<SubBackward0>)"
      ]
     },
     "metadata": {},
     "output_type": "display_data"
    },
    {
     "data": {
      "text/plain": [
       "tensor(1.1457e+17, device='cuda:0', grad_fn=<SubBackward0>)"
      ]
     },
     "metadata": {},
     "output_type": "display_data"
    },
    {
     "data": {
      "text/plain": [
       "tensor(1.0972e+17, device='cuda:0', grad_fn=<SubBackward0>)"
      ]
     },
     "metadata": {},
     "output_type": "display_data"
    },
    {
     "data": {
      "text/plain": [
       "tensor(1.6940e+17, device='cuda:0', grad_fn=<SubBackward0>)"
      ]
     },
     "metadata": {},
     "output_type": "display_data"
    },
    {
     "data": {
      "text/plain": [
       "tensor(5.1368e+16, device='cuda:0', grad_fn=<SubBackward0>)"
      ]
     },
     "metadata": {},
     "output_type": "display_data"
    },
    {
     "data": {
      "text/plain": [
       "tensor(2.2510e+16, device='cuda:0', grad_fn=<SubBackward0>)"
      ]
     },
     "metadata": {},
     "output_type": "display_data"
    },
    {
     "data": {
      "text/plain": [
       "'Epoch [10/10], Loss: 104095746531961520.0000'"
      ]
     },
     "metadata": {},
     "output_type": "display_data"
    },
    {
     "name": "stderr",
     "output_type": "stream",
     "text": [
      "C:\\Users\\shale\\AppData\\Local\\Temp\\ipykernel_52776\\2421569737.py:254: FutureWarning: You are using `torch.load` with `weights_only=False` (the current default value), which uses the default pickle module implicitly. It is possible to construct malicious pickle data which will execute arbitrary code during unpickling (See https://github.com/pytorch/pytorch/blob/main/SECURITY.md#untrusted-models for more details). In a future release, the default value for `weights_only` will be flipped to `True`. This limits the functions that could be executed during unpickling. Arbitrary objects will no longer be allowed to be loaded via this mode unless they are explicitly allowlisted by the user via `torch.serialization.add_safe_globals`. We recommend you start setting `weights_only=True` for any use case where you don't have full control of the loaded file. Please open an issue on GitHub for any issues related to this experimental feature.\n",
      "  waveglow.load_state_dict(torch.load(model_path, map_location=device))\n"
     ]
    }
   ],
   "execution_count": 2
  },
  {
   "metadata": {},
   "cell_type": "code",
   "outputs": [],
   "execution_count": null,
   "source": ""
  }
 ],
 "metadata": {
  "kernelspec": {
   "display_name": "Python 3",
   "language": "python",
   "name": "python3"
  },
  "language_info": {
   "codemirror_mode": {
    "name": "ipython",
    "version": 2
   },
   "file_extension": ".py",
   "mimetype": "text/x-python",
   "name": "python",
   "nbconvert_exporter": "python",
   "pygments_lexer": "ipython2",
   "version": "2.7.6"
  }
 },
 "nbformat": 4,
 "nbformat_minor": 0
}
